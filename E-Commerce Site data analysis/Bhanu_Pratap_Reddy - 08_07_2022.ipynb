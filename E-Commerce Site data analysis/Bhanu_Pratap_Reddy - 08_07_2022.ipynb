{
 "cells": [
  {
   "cell_type": "markdown",
   "metadata": {},
   "source": [
    "# BHANU PRATAP REDDY - 08/07/2022"
   ]
  },
  {
   "cell_type": "markdown",
   "metadata": {},
   "source": [
    "### Library Imports and QoL Settings"
   ]
  },
  {
   "cell_type": "code",
   "execution_count": 1,
   "metadata": {},
   "outputs": [],
   "source": [
    "#Importing all necessary Libraries\n",
    "import numpy as np\n",
    "import pandas as pd\n",
    "import matplotlib.pyplot as plt\n",
    "import seaborn as sns\n",
    "import plotly.express as pnx\n",
    "\n",
    "# Declaring this to show graphs after inline command instead of plt.show() after every instance of plotting\n",
    "%matplotlib inline\n",
    "\n",
    "#Set the max number of rows in output cell to 15\n",
    "pd.options.display.max_rows = 15\n",
    "\n",
    "#Ignore unnecessary warnings\n",
    "from warnings import filterwarnings\n",
    "filterwarnings(\"ignore\")"
   ]
  },
  {
   "cell_type": "markdown",
   "metadata": {},
   "source": [
    "### Importing Data "
   ]
  },
  {
   "cell_type": "markdown",
   "metadata": {},
   "source": [
    "###### The data imported will be stored onto the Data Frame with name 'Ecom_Data'"
   ]
  },
  {
   "cell_type": "code",
   "execution_count": 2,
   "metadata": {},
   "outputs": [],
   "source": [
    "#CSV Data is imported, file is located in the same directory as that of the .ipynb file\n",
    "ECom_Data = pd.read_csv(\"E-Commerce_Flipkart.csv\")\n",
    "\n",
    "#If Data located in different directory or if entire file path needs to be specified:\n",
    "#ECom_Data = pd.read_csv(\"D:/Visual Studio Projects/Python/Great Learning Data Science/Week 4 Project/E-Commerce_Flipkart.csv\")"
   ]
  },
  {
   "cell_type": "markdown",
   "metadata": {},
   "source": [
    "### Column Labels and brief description"
   ]
  },
  {
   "cell_type": "markdown",
   "metadata": {},
   "source": [
    "##### **Customer_uniq_id** : Customer unique ID to identify purchasers\n",
    "##### **Region** : Categorical data with North, South, East and West regions\n",
    "##### **Order_Date** : Date of Order\n",
    "##### **Expected_Delivery_Date** : Calculated delivery date\n",
    "##### **Delivered_Date** : Actual date of Delivery\n",
    "##### **product_name** :Name of product\n",
    "##### **product_main_category** : Categorical data, Main Category\n",
    "##### **product_subcategory** : Categorical data, Sub Category\n",
    "##### **product_category_filter** : Categorical data, Sub Category\n",
    "##### **product_category_subfilter** : Categorical data, Sub Category\n",
    "##### **product_unique ID** : Unique ID for products\n",
    "##### **retail_price** : Distribution data, Retail prices of products i.e. highest possible price of selling\n",
    "##### **discounted_price** : Distribution data, Price after diductions it also is the final price at which it was sold\n",
    "##### **product_rating** : Rating of the product\n",
    "##### **Brand** : Categorical data, Brand associated with products\n",
    "##### **product_specifications** : Product specific data\n",
    "##### **description** : Description of product"
   ]
  },
  {
   "cell_type": "markdown",
   "metadata": {},
   "source": [
    "### Q 1.\tTo get familiar with the data\n",
    " "
   ]
  },
  {
   "cell_type": "markdown",
   "metadata": {},
   "source": [
    "##### a)\tPrint out the first 10 and the last 10 records of the data. (2 marks)\n",
    "##### b)\tHow many rows and columns are present in the dataset? Use any two different methods to extract this information. (2 + 2 + 1 marks)\n",
    "##### c)\tHow many object data types are there? (1 mark)\n",
    "##### d)\tIs there any Boolean data type? (1 mark)"
   ]
  },
  {
   "cell_type": "markdown",
   "metadata": {},
   "source": [
    "<span style='color:green'> **Ans 1. a)** </span>"
   ]
  },
  {
   "cell_type": "code",
   "execution_count": 3,
   "metadata": {},
   "outputs": [
    {
     "data": {
      "text/html": [
       "<div>\n",
       "<style scoped>\n",
       "    .dataframe tbody tr th:only-of-type {\n",
       "        vertical-align: middle;\n",
       "    }\n",
       "\n",
       "    .dataframe tbody tr th {\n",
       "        vertical-align: top;\n",
       "    }\n",
       "\n",
       "    .dataframe thead th {\n",
       "        text-align: right;\n",
       "    }\n",
       "</style>\n",
       "<table border=\"1\" class=\"dataframe\">\n",
       "  <thead>\n",
       "    <tr style=\"text-align: right;\">\n",
       "      <th></th>\n",
       "      <th>Customer_uniq_id</th>\n",
       "      <th>Region</th>\n",
       "      <th>Order_Date</th>\n",
       "      <th>Expected_Delivery_Date</th>\n",
       "      <th>Delivered_Date</th>\n",
       "      <th>product_name</th>\n",
       "      <th>product_main_category</th>\n",
       "      <th>product_subcategory</th>\n",
       "      <th>product_category_filter</th>\n",
       "      <th>product_category_subfilter</th>\n",
       "      <th>product_unique ID</th>\n",
       "      <th>retail_price</th>\n",
       "      <th>discounted_price</th>\n",
       "      <th>product_rating</th>\n",
       "      <th>Brand</th>\n",
       "      <th>product_specifications</th>\n",
       "      <th>description</th>\n",
       "    </tr>\n",
       "  </thead>\n",
       "  <tbody>\n",
       "    <tr>\n",
       "      <th>0</th>\n",
       "      <td>c2d766ca982eca8304150849735ffef9</td>\n",
       "      <td>North</td>\n",
       "      <td>31-12-2021</td>\n",
       "      <td>03-01-2022</td>\n",
       "      <td>02-01-2022</td>\n",
       "      <td>Alisha Solid Women's Cycling Shorts</td>\n",
       "      <td>Clothing</td>\n",
       "      <td>Women's Clothing</td>\n",
       "      <td>Lingerie, Sleep &amp; Swimwear</td>\n",
       "      <td>Shorts</td>\n",
       "      <td>SRTEH2FF9KEDEFGF</td>\n",
       "      <td>999</td>\n",
       "      <td>379</td>\n",
       "      <td>2.0</td>\n",
       "      <td>Alisha</td>\n",
       "      <td>{\"product_specification\"=&gt;[{\"key\"=&gt;\"Number of ...</td>\n",
       "      <td>Key Features of Alisha Solid Women's Cycling S...</td>\n",
       "    </tr>\n",
       "    <tr>\n",
       "      <th>1</th>\n",
       "      <td>7f7036a6d550aaa89d34c77bd39a5e48</td>\n",
       "      <td>East</td>\n",
       "      <td>31-12-2021</td>\n",
       "      <td>03-01-2022</td>\n",
       "      <td>02-01-2022</td>\n",
       "      <td>FabHomeDecor Fabric Double Sofa Bed</td>\n",
       "      <td>Furniture</td>\n",
       "      <td>Living Room Furniture</td>\n",
       "      <td>Sofa Beds &amp; Futons</td>\n",
       "      <td>FabHomeDecor Fabric Double Sofa Bed (Finish C...</td>\n",
       "      <td>SBEEH3QGU7MFYJFY</td>\n",
       "      <td>32157</td>\n",
       "      <td>22646</td>\n",
       "      <td>2.0</td>\n",
       "      <td>FabHomeDecor</td>\n",
       "      <td>{\"product_specification\"=&gt;[{\"key\"=&gt;\"Installati...</td>\n",
       "      <td>FabHomeDecor Fabric Double Sofa Bed (Finish Co...</td>\n",
       "    </tr>\n",
       "    <tr>\n",
       "      <th>2</th>\n",
       "      <td>f449ec65dcbc041b6ae5e6a32717d01b</td>\n",
       "      <td>East</td>\n",
       "      <td>31-12-2021</td>\n",
       "      <td>03-01-2022</td>\n",
       "      <td>02-01-2022</td>\n",
       "      <td>AW Bellies</td>\n",
       "      <td>Footwear</td>\n",
       "      <td>Women's Footwear</td>\n",
       "      <td>Ballerinas</td>\n",
       "      <td>AW Bellies</td>\n",
       "      <td>SHOEH4GRSUBJGZXE</td>\n",
       "      <td>999</td>\n",
       "      <td>499</td>\n",
       "      <td>1.0</td>\n",
       "      <td>AW</td>\n",
       "      <td>{\"product_specification\"=&gt;[{\"key\"=&gt;\"Ideal For\"...</td>\n",
       "      <td>Key Features of AW Bellies Sandals Wedges Heel...</td>\n",
       "    </tr>\n",
       "    <tr>\n",
       "      <th>3</th>\n",
       "      <td>0973b37acd0c664e3de26e97e5571454</td>\n",
       "      <td>West</td>\n",
       "      <td>31-12-2021</td>\n",
       "      <td>03-01-2022</td>\n",
       "      <td>02-01-2022</td>\n",
       "      <td>Alisha Solid Women's Cycling Shorts</td>\n",
       "      <td>Clothing</td>\n",
       "      <td>Women's Clothing</td>\n",
       "      <td>Lingerie, Sleep &amp; Swimwear</td>\n",
       "      <td>Shorts</td>\n",
       "      <td>SRTEH2F6HUZMQ6SJ</td>\n",
       "      <td>699</td>\n",
       "      <td>267</td>\n",
       "      <td>5.0</td>\n",
       "      <td>Alisha</td>\n",
       "      <td>{\"product_specification\"=&gt;[{\"key\"=&gt;\"Number of ...</td>\n",
       "      <td>Key Features of Alisha Solid Women's Cycling S...</td>\n",
       "    </tr>\n",
       "    <tr>\n",
       "      <th>4</th>\n",
       "      <td>bc940ea42ee6bef5ac7cea3fb5cfbee7</td>\n",
       "      <td>West</td>\n",
       "      <td>31-12-2021</td>\n",
       "      <td>03-01-2022</td>\n",
       "      <td>02-01-2022</td>\n",
       "      <td>Sicons All Purpose Arnica Dog Shampoo</td>\n",
       "      <td>Pet Supplies</td>\n",
       "      <td>Grooming</td>\n",
       "      <td>Skin &amp; Coat Care</td>\n",
       "      <td>Shampoo</td>\n",
       "      <td>PSOEH3ZYDMSYARJ5</td>\n",
       "      <td>220</td>\n",
       "      <td>210</td>\n",
       "      <td>5.0</td>\n",
       "      <td>Sicons</td>\n",
       "      <td>{\"product_specification\"=&gt;[{\"key\"=&gt;\"Pet Type\",...</td>\n",
       "      <td>Specifications of Sicons All Purpose Arnica Do...</td>\n",
       "    </tr>\n",
       "    <tr>\n",
       "      <th>5</th>\n",
       "      <td>ce5a6818f7707e2cb61fdcdbba61f5ad</td>\n",
       "      <td>East</td>\n",
       "      <td>25-12-2021</td>\n",
       "      <td>28-12-2021</td>\n",
       "      <td>27-12-2021</td>\n",
       "      <td>Alisha Solid Women's Cycling Shorts</td>\n",
       "      <td>Clothing</td>\n",
       "      <td>Women's Clothing</td>\n",
       "      <td>Lingerie, Sleep &amp; Swimwear</td>\n",
       "      <td>Shorts</td>\n",
       "      <td>SRTEH2FVVKRBAXHB</td>\n",
       "      <td>1199</td>\n",
       "      <td>479</td>\n",
       "      <td>4.0</td>\n",
       "      <td>Alisha</td>\n",
       "      <td>{\"product_specification\"=&gt;[{\"key\"=&gt;\"Number of ...</td>\n",
       "      <td>Key Features of Alisha Solid Women's Cycling S...</td>\n",
       "    </tr>\n",
       "    <tr>\n",
       "      <th>6</th>\n",
       "      <td>8542703ca9e6ebdf6d742638dfb1f2ca</td>\n",
       "      <td>East</td>\n",
       "      <td>25-12-2021</td>\n",
       "      <td>28-12-2021</td>\n",
       "      <td>27-12-2021</td>\n",
       "      <td>FabHomeDecor Fabric Double Sofa Bed</td>\n",
       "      <td>Furniture</td>\n",
       "      <td>Living Room Furniture</td>\n",
       "      <td>Sofa Beds &amp; Futons</td>\n",
       "      <td>FabHomeDecor Fabric Double Sofa Bed (Finish C...</td>\n",
       "      <td>SBEEH3QGYGHFUEXN</td>\n",
       "      <td>32157</td>\n",
       "      <td>22646</td>\n",
       "      <td>2.0</td>\n",
       "      <td>FabHomeDecor</td>\n",
       "      <td>{\"product_specification\"=&gt;[{\"key\"=&gt;\"Installati...</td>\n",
       "      <td>FabHomeDecor Fabric Double Sofa Bed (Finish Co...</td>\n",
       "    </tr>\n",
       "    <tr>\n",
       "      <th>7</th>\n",
       "      <td>29c8d290caa451f97b1c32df64477a2c</td>\n",
       "      <td>North</td>\n",
       "      <td>25-12-2021</td>\n",
       "      <td>28-12-2021</td>\n",
       "      <td>27-12-2021</td>\n",
       "      <td>dilli bazaaar Bellies, Corporate Casuals, Casuals</td>\n",
       "      <td>Footwear</td>\n",
       "      <td>Women's Footwear</td>\n",
       "      <td>Ballerinas</td>\n",
       "      <td>dilli bazaaar Bellies, Corporate Casuals, Cas...</td>\n",
       "      <td>SHOEH3DZBFR88SCK</td>\n",
       "      <td>699</td>\n",
       "      <td>349</td>\n",
       "      <td>5.0</td>\n",
       "      <td>dilli bazaaar</td>\n",
       "      <td>{\"product_specification\"=&gt;[{\"key\"=&gt;\"Occasion\",...</td>\n",
       "      <td>Key Features of dilli bazaaar Bellies, Corpora...</td>\n",
       "    </tr>\n",
       "    <tr>\n",
       "      <th>8</th>\n",
       "      <td>4044c0ac52c1ee4b28777417651faf42</td>\n",
       "      <td>East</td>\n",
       "      <td>25-12-2021</td>\n",
       "      <td>28-12-2021</td>\n",
       "      <td>27-12-2021</td>\n",
       "      <td>Alisha Solid Women's Cycling Shorts</td>\n",
       "      <td>Clothing</td>\n",
       "      <td>Women's Clothing</td>\n",
       "      <td>Lingerie, Sleep &amp; Swimwear</td>\n",
       "      <td>Shorts</td>\n",
       "      <td>SRTEH2FVUHAAVH9X</td>\n",
       "      <td>1199</td>\n",
       "      <td>479</td>\n",
       "      <td>1.0</td>\n",
       "      <td>Alisha</td>\n",
       "      <td>{\"product_specification\"=&gt;[{\"key\"=&gt;\"Number of ...</td>\n",
       "      <td>Key Features of Alisha Solid Women's Cycling S...</td>\n",
       "    </tr>\n",
       "    <tr>\n",
       "      <th>9</th>\n",
       "      <td>e54bc0a7c3429da2ebef0b30331fe3d2</td>\n",
       "      <td>East</td>\n",
       "      <td>25-12-2021</td>\n",
       "      <td>28-12-2021</td>\n",
       "      <td>27-12-2021</td>\n",
       "      <td>Ladela Bellies</td>\n",
       "      <td>Footwear</td>\n",
       "      <td>Women's Footwear</td>\n",
       "      <td>Ballerinas</td>\n",
       "      <td>Ladela Bellies</td>\n",
       "      <td>SHOEH4KM2W3Z6EH5</td>\n",
       "      <td>1724</td>\n",
       "      <td>950</td>\n",
       "      <td>5.0</td>\n",
       "      <td>Ladela</td>\n",
       "      <td>{\"product_specification\"=&gt;[{\"key\"=&gt;\"Occasion\",...</td>\n",
       "      <td>Key Features of Ladela Bellies Brand: LADELA C...</td>\n",
       "    </tr>\n",
       "  </tbody>\n",
       "</table>\n",
       "</div>"
      ],
      "text/plain": [
       "                   Customer_uniq_id Region  Order_Date Expected_Delivery_Date  \\\n",
       "0  c2d766ca982eca8304150849735ffef9  North  31-12-2021             03-01-2022   \n",
       "1  7f7036a6d550aaa89d34c77bd39a5e48  East   31-12-2021             03-01-2022   \n",
       "2  f449ec65dcbc041b6ae5e6a32717d01b  East   31-12-2021             03-01-2022   \n",
       "3  0973b37acd0c664e3de26e97e5571454   West  31-12-2021             03-01-2022   \n",
       "4  bc940ea42ee6bef5ac7cea3fb5cfbee7   West  31-12-2021             03-01-2022   \n",
       "5  ce5a6818f7707e2cb61fdcdbba61f5ad  East   25-12-2021             28-12-2021   \n",
       "6  8542703ca9e6ebdf6d742638dfb1f2ca  East   25-12-2021             28-12-2021   \n",
       "7  29c8d290caa451f97b1c32df64477a2c  North  25-12-2021             28-12-2021   \n",
       "8  4044c0ac52c1ee4b28777417651faf42  East   25-12-2021             28-12-2021   \n",
       "9  e54bc0a7c3429da2ebef0b30331fe3d2  East   25-12-2021             28-12-2021   \n",
       "\n",
       "  Delivered_Date                                       product_name  \\\n",
       "0     02-01-2022                Alisha Solid Women's Cycling Shorts   \n",
       "1     02-01-2022                FabHomeDecor Fabric Double Sofa Bed   \n",
       "2     02-01-2022                                         AW Bellies   \n",
       "3     02-01-2022                Alisha Solid Women's Cycling Shorts   \n",
       "4     02-01-2022              Sicons All Purpose Arnica Dog Shampoo   \n",
       "5     27-12-2021                Alisha Solid Women's Cycling Shorts   \n",
       "6     27-12-2021                FabHomeDecor Fabric Double Sofa Bed   \n",
       "7     27-12-2021  dilli bazaaar Bellies, Corporate Casuals, Casuals   \n",
       "8     27-12-2021                Alisha Solid Women's Cycling Shorts   \n",
       "9     27-12-2021                                     Ladela Bellies   \n",
       "\n",
       "  product_main_category      product_subcategory  \\\n",
       "0             Clothing         Women's Clothing    \n",
       "1            Furniture    Living Room Furniture    \n",
       "2             Footwear         Women's Footwear    \n",
       "3             Clothing         Women's Clothing    \n",
       "4         Pet Supplies                 Grooming    \n",
       "5             Clothing         Women's Clothing    \n",
       "6            Furniture    Living Room Furniture    \n",
       "7             Footwear         Women's Footwear    \n",
       "8             Clothing         Women's Clothing    \n",
       "9             Footwear         Women's Footwear    \n",
       "\n",
       "        product_category_filter  \\\n",
       "0   Lingerie, Sleep & Swimwear    \n",
       "1           Sofa Beds & Futons    \n",
       "2                   Ballerinas    \n",
       "3   Lingerie, Sleep & Swimwear    \n",
       "4             Skin & Coat Care    \n",
       "5   Lingerie, Sleep & Swimwear    \n",
       "6           Sofa Beds & Futons    \n",
       "7                   Ballerinas    \n",
       "8   Lingerie, Sleep & Swimwear    \n",
       "9                   Ballerinas    \n",
       "\n",
       "                          product_category_subfilter product_unique ID  \\\n",
       "0                                            Shorts   SRTEH2FF9KEDEFGF   \n",
       "1   FabHomeDecor Fabric Double Sofa Bed (Finish C...  SBEEH3QGU7MFYJFY   \n",
       "2                                         AW Bellies  SHOEH4GRSUBJGZXE   \n",
       "3                                            Shorts   SRTEH2F6HUZMQ6SJ   \n",
       "4                                           Shampoo   PSOEH3ZYDMSYARJ5   \n",
       "5                                            Shorts   SRTEH2FVVKRBAXHB   \n",
       "6   FabHomeDecor Fabric Double Sofa Bed (Finish C...  SBEEH3QGYGHFUEXN   \n",
       "7   dilli bazaaar Bellies, Corporate Casuals, Cas...  SHOEH3DZBFR88SCK   \n",
       "8                                            Shorts   SRTEH2FVUHAAVH9X   \n",
       "9                                     Ladela Bellies  SHOEH4KM2W3Z6EH5   \n",
       "\n",
       "   retail_price  discounted_price  product_rating          Brand  \\\n",
       "0           999               379             2.0         Alisha   \n",
       "1         32157             22646             2.0   FabHomeDecor   \n",
       "2           999               499             1.0             AW   \n",
       "3           699               267             5.0         Alisha   \n",
       "4           220               210             5.0         Sicons   \n",
       "5          1199               479             4.0         Alisha   \n",
       "6         32157             22646             2.0   FabHomeDecor   \n",
       "7           699               349             5.0  dilli bazaaar   \n",
       "8          1199               479             1.0         Alisha   \n",
       "9          1724               950             5.0         Ladela   \n",
       "\n",
       "                              product_specifications  \\\n",
       "0  {\"product_specification\"=>[{\"key\"=>\"Number of ...   \n",
       "1  {\"product_specification\"=>[{\"key\"=>\"Installati...   \n",
       "2  {\"product_specification\"=>[{\"key\"=>\"Ideal For\"...   \n",
       "3  {\"product_specification\"=>[{\"key\"=>\"Number of ...   \n",
       "4  {\"product_specification\"=>[{\"key\"=>\"Pet Type\",...   \n",
       "5  {\"product_specification\"=>[{\"key\"=>\"Number of ...   \n",
       "6  {\"product_specification\"=>[{\"key\"=>\"Installati...   \n",
       "7  {\"product_specification\"=>[{\"key\"=>\"Occasion\",...   \n",
       "8  {\"product_specification\"=>[{\"key\"=>\"Number of ...   \n",
       "9  {\"product_specification\"=>[{\"key\"=>\"Occasion\",...   \n",
       "\n",
       "                                         description  \n",
       "0  Key Features of Alisha Solid Women's Cycling S...  \n",
       "1  FabHomeDecor Fabric Double Sofa Bed (Finish Co...  \n",
       "2  Key Features of AW Bellies Sandals Wedges Heel...  \n",
       "3  Key Features of Alisha Solid Women's Cycling S...  \n",
       "4  Specifications of Sicons All Purpose Arnica Do...  \n",
       "5  Key Features of Alisha Solid Women's Cycling S...  \n",
       "6  FabHomeDecor Fabric Double Sofa Bed (Finish Co...  \n",
       "7  Key Features of dilli bazaaar Bellies, Corpora...  \n",
       "8  Key Features of Alisha Solid Women's Cycling S...  \n",
       "9  Key Features of Ladela Bellies Brand: LADELA C...  "
      ]
     },
     "execution_count": 3,
     "metadata": {},
     "output_type": "execute_result"
    }
   ],
   "source": [
    "#printing first 10 entries of the dataframe\n",
    "ECom_Data.head(10)"
   ]
  },
  {
   "cell_type": "code",
   "execution_count": 4,
   "metadata": {},
   "outputs": [
    {
     "data": {
      "text/html": [
       "<div>\n",
       "<style scoped>\n",
       "    .dataframe tbody tr th:only-of-type {\n",
       "        vertical-align: middle;\n",
       "    }\n",
       "\n",
       "    .dataframe tbody tr th {\n",
       "        vertical-align: top;\n",
       "    }\n",
       "\n",
       "    .dataframe thead th {\n",
       "        text-align: right;\n",
       "    }\n",
       "</style>\n",
       "<table border=\"1\" class=\"dataframe\">\n",
       "  <thead>\n",
       "    <tr style=\"text-align: right;\">\n",
       "      <th></th>\n",
       "      <th>Customer_uniq_id</th>\n",
       "      <th>Region</th>\n",
       "      <th>Order_Date</th>\n",
       "      <th>Expected_Delivery_Date</th>\n",
       "      <th>Delivered_Date</th>\n",
       "      <th>product_name</th>\n",
       "      <th>product_main_category</th>\n",
       "      <th>product_subcategory</th>\n",
       "      <th>product_category_filter</th>\n",
       "      <th>product_category_subfilter</th>\n",
       "      <th>product_unique ID</th>\n",
       "      <th>retail_price</th>\n",
       "      <th>discounted_price</th>\n",
       "      <th>product_rating</th>\n",
       "      <th>Brand</th>\n",
       "      <th>product_specifications</th>\n",
       "      <th>description</th>\n",
       "    </tr>\n",
       "  </thead>\n",
       "  <tbody>\n",
       "    <tr>\n",
       "      <th>8917</th>\n",
       "      <td>4db03bc4ccbe216cf151b2f2b904ba3f</td>\n",
       "      <td>East</td>\n",
       "      <td>01-12-2020</td>\n",
       "      <td>04-12-2020</td>\n",
       "      <td>04-12-2020</td>\n",
       "      <td>Luca Fashion Girls Heels</td>\n",
       "      <td>Footwear</td>\n",
       "      <td>Kids' &amp; Infant Footwear</td>\n",
       "      <td>For Girls</td>\n",
       "      <td>Sandals</td>\n",
       "      <td>SNDEHG3DNVBFGAT5</td>\n",
       "      <td>999</td>\n",
       "      <td>499</td>\n",
       "      <td>4.0</td>\n",
       "      <td>Luca Fashion</td>\n",
       "      <td>{\"product_specification\"=&gt;[{\"key\"=&gt;\"Occasion\",...</td>\n",
       "      <td>Key Features of Luca Fashion Girls Heels Occas...</td>\n",
       "    </tr>\n",
       "    <tr>\n",
       "      <th>8918</th>\n",
       "      <td>4d4d6aeb13fa253499d0dd45a5abd87e</td>\n",
       "      <td>West</td>\n",
       "      <td>01-12-2020</td>\n",
       "      <td>04-12-2020</td>\n",
       "      <td>04-12-2020</td>\n",
       "      <td>Shoetopia Girls Sandals</td>\n",
       "      <td>Footwear</td>\n",
       "      <td>Kids' &amp; Infant Footwear</td>\n",
       "      <td>For Girls</td>\n",
       "      <td>Sandals</td>\n",
       "      <td>SNDEG7DRWSX8HFXZ</td>\n",
       "      <td>499</td>\n",
       "      <td>399</td>\n",
       "      <td>4.0</td>\n",
       "      <td>Shoetopia</td>\n",
       "      <td>{\"product_specification\"=&gt;[{\"key\"=&gt;\"Ideal For\"...</td>\n",
       "      <td>Key Features of Shoetopia Girls Sandals Flats ...</td>\n",
       "    </tr>\n",
       "    <tr>\n",
       "      <th>8919</th>\n",
       "      <td>ea19e7ef703293d3f6c799ca9db4642d</td>\n",
       "      <td>West</td>\n",
       "      <td>01-12-2020</td>\n",
       "      <td>04-12-2020</td>\n",
       "      <td>04-12-2020</td>\n",
       "      <td>SMART TRADERS Girls Sandals</td>\n",
       "      <td>Footwear</td>\n",
       "      <td>Kids' &amp; Infant Footwear</td>\n",
       "      <td>For Girls</td>\n",
       "      <td>Sandals</td>\n",
       "      <td>SNDEG7MZHHKZ58D2</td>\n",
       "      <td>999</td>\n",
       "      <td>499</td>\n",
       "      <td>5.0</td>\n",
       "      <td>SMART TRADERS</td>\n",
       "      <td>{\"product_specification\"=&gt;[{\"key\"=&gt;\"Ideal For\"...</td>\n",
       "      <td>Key Features of SMART TRADERS Girls Sandals Oc...</td>\n",
       "    </tr>\n",
       "    <tr>\n",
       "      <th>8920</th>\n",
       "      <td>19a53a958992fb575acffb5d41e7ef9e</td>\n",
       "      <td>East</td>\n",
       "      <td>01-12-2020</td>\n",
       "      <td>04-12-2020</td>\n",
       "      <td>04-12-2020</td>\n",
       "      <td>Beanz Girls Flats</td>\n",
       "      <td>Footwear</td>\n",
       "      <td>Kids' &amp; Infant Footwear</td>\n",
       "      <td>For Girls</td>\n",
       "      <td>Sandals</td>\n",
       "      <td>SNDEG7DYVFWHZBC4</td>\n",
       "      <td>1299</td>\n",
       "      <td>1299</td>\n",
       "      <td>3.0</td>\n",
       "      <td>Beanz</td>\n",
       "      <td>{\"product_specification\"=&gt;[{\"key\"=&gt;\"Occasion\",...</td>\n",
       "      <td>Key Features of Beanz Girls Flats Occasion: Ca...</td>\n",
       "    </tr>\n",
       "    <tr>\n",
       "      <th>8921</th>\n",
       "      <td>09abab80c8dfdc6f268e0a6f05a0be11</td>\n",
       "      <td>North</td>\n",
       "      <td>01-12-2020</td>\n",
       "      <td>04-12-2020</td>\n",
       "      <td>04-12-2020</td>\n",
       "      <td>Nova KT 728S Electric Kettle</td>\n",
       "      <td>Home &amp; Kitchen</td>\n",
       "      <td>Kitchen Appliances</td>\n",
       "      <td>Electric Jug(heater)/Travel Kettles</td>\n",
       "      <td>Nova Electric Jug(heater)/Travel Kettles</td>\n",
       "      <td>EKTDG5C5QSADZZ8J</td>\n",
       "      <td>3195</td>\n",
       "      <td>699</td>\n",
       "      <td>3.6</td>\n",
       "      <td>Nova</td>\n",
       "      <td>{\"product_specification\"=&gt;[{\"key\"=&gt;\"Brand\", \"v...</td>\n",
       "      <td>Specifications of Nova KT 728S Electric Kettle...</td>\n",
       "    </tr>\n",
       "    <tr>\n",
       "      <th>8922</th>\n",
       "      <td>90d30478255e23621e8929ed15c2f6e4</td>\n",
       "      <td>South</td>\n",
       "      <td>01-12-2020</td>\n",
       "      <td>04-12-2020</td>\n",
       "      <td>04-12-2020</td>\n",
       "      <td>Sinina Chanderi Embroidered Salwar Suit Dupatt...</td>\n",
       "      <td>Clothing</td>\n",
       "      <td>Women's Clothing</td>\n",
       "      <td>Ethnic Wear</td>\n",
       "      <td>Fabric</td>\n",
       "      <td>FABEGGHHDFMY8BZU</td>\n",
       "      <td>2980</td>\n",
       "      <td>1490</td>\n",
       "      <td>3.0</td>\n",
       "      <td>Sinina</td>\n",
       "      <td>{\"product_specification\"=&gt;[{\"key\"=&gt;\"Fabric\", \"...</td>\n",
       "      <td>Key Features of Sinina Chanderi Embroidered Sa...</td>\n",
       "    </tr>\n",
       "    <tr>\n",
       "      <th>8923</th>\n",
       "      <td>20a73e3f41490a73ceeba5f17658db8f</td>\n",
       "      <td>West</td>\n",
       "      <td>01-12-2020</td>\n",
       "      <td>04-12-2020</td>\n",
       "      <td>04-12-2020</td>\n",
       "      <td>Aarushi Fashion Chanderi Embroidered Salwar Su...</td>\n",
       "      <td>Clothing</td>\n",
       "      <td>Women's Clothing</td>\n",
       "      <td>Ethnic Wear</td>\n",
       "      <td>Fabric</td>\n",
       "      <td>FABEG8GFDUWRSNU3</td>\n",
       "      <td>2600</td>\n",
       "      <td>1300</td>\n",
       "      <td>1.0</td>\n",
       "      <td>Aarushi Fashion</td>\n",
       "      <td>{\"product_specification\"=&gt;[{\"key\"=&gt;\"Fabric\", \"...</td>\n",
       "      <td>Key Features of Aarushi Fashion Chanderi Embro...</td>\n",
       "    </tr>\n",
       "    <tr>\n",
       "      <th>8924</th>\n",
       "      <td>5c1554cd45f9d538c2c6947dbdd59c75</td>\n",
       "      <td>East</td>\n",
       "      <td>01-12-2020</td>\n",
       "      <td>04-12-2020</td>\n",
       "      <td>04-12-2020</td>\n",
       "      <td>Ambika Lahenga Embroidered Lehenga, Choli and ...</td>\n",
       "      <td>Clothing</td>\n",
       "      <td>Women's Clothing</td>\n",
       "      <td>Ethnic Wear</td>\n",
       "      <td>Lehenga Cholis</td>\n",
       "      <td>LEHEGGEHYN4G2RPW</td>\n",
       "      <td>39992</td>\n",
       "      <td>24995</td>\n",
       "      <td>1.0</td>\n",
       "      <td>Ambika Lahenga</td>\n",
       "      <td>{\"product_specification\"=&gt;[{\"key\"=&gt;\"Fabric\", \"...</td>\n",
       "      <td>Key Features of Ambika Lahenga Embroidered Leh...</td>\n",
       "    </tr>\n",
       "    <tr>\n",
       "      <th>8925</th>\n",
       "      <td>6b737a4deca1ed0e56c179e66036e994</td>\n",
       "      <td>West</td>\n",
       "      <td>01-12-2020</td>\n",
       "      <td>04-12-2020</td>\n",
       "      <td>04-12-2020</td>\n",
       "      <td>Sinina Chanderi Embroidered Salwar Suit Dupatt...</td>\n",
       "      <td>Clothing</td>\n",
       "      <td>Women's Clothing</td>\n",
       "      <td>Ethnic Wear</td>\n",
       "      <td>Fabric</td>\n",
       "      <td>FABEGGHHGSVCHGFV</td>\n",
       "      <td>2000</td>\n",
       "      <td>1000</td>\n",
       "      <td>3.0</td>\n",
       "      <td>Sinina</td>\n",
       "      <td>{\"product_specification\"=&gt;[{\"key\"=&gt;\"Fabric\", \"...</td>\n",
       "      <td>Key Features of Sinina Chanderi Embroidered Sa...</td>\n",
       "    </tr>\n",
       "    <tr>\n",
       "      <th>8926</th>\n",
       "      <td>a5235ac28d3d5487f54025f9d6b57433</td>\n",
       "      <td>North</td>\n",
       "      <td>01-12-2020</td>\n",
       "      <td>04-12-2020</td>\n",
       "      <td>04-12-2020</td>\n",
       "      <td>Aarushi Fashion Silk Striped Salwar Suit Dupat...</td>\n",
       "      <td>Clothing</td>\n",
       "      <td>Women's Clothing</td>\n",
       "      <td>Ethnic Wear</td>\n",
       "      <td>Fabric</td>\n",
       "      <td>FABEG8GYDAABECZH</td>\n",
       "      <td>2800</td>\n",
       "      <td>1350</td>\n",
       "      <td>4.0</td>\n",
       "      <td>Aarushi Fashion</td>\n",
       "      <td>{\"product_specification\"=&gt;[{\"key\"=&gt;\"Fabric\", \"...</td>\n",
       "      <td>Key Features of Aarushi Fashion Silk Striped S...</td>\n",
       "    </tr>\n",
       "  </tbody>\n",
       "</table>\n",
       "</div>"
      ],
      "text/plain": [
       "                      Customer_uniq_id Region  Order_Date  \\\n",
       "8917  4db03bc4ccbe216cf151b2f2b904ba3f  East   01-12-2020   \n",
       "8918  4d4d6aeb13fa253499d0dd45a5abd87e   West  01-12-2020   \n",
       "8919  ea19e7ef703293d3f6c799ca9db4642d   West  01-12-2020   \n",
       "8920  19a53a958992fb575acffb5d41e7ef9e  East   01-12-2020   \n",
       "8921  09abab80c8dfdc6f268e0a6f05a0be11  North  01-12-2020   \n",
       "8922  90d30478255e23621e8929ed15c2f6e4  South  01-12-2020   \n",
       "8923  20a73e3f41490a73ceeba5f17658db8f   West  01-12-2020   \n",
       "8924  5c1554cd45f9d538c2c6947dbdd59c75  East   01-12-2020   \n",
       "8925  6b737a4deca1ed0e56c179e66036e994   West  01-12-2020   \n",
       "8926  a5235ac28d3d5487f54025f9d6b57433  North  01-12-2020   \n",
       "\n",
       "     Expected_Delivery_Date Delivered_Date  \\\n",
       "8917             04-12-2020     04-12-2020   \n",
       "8918             04-12-2020     04-12-2020   \n",
       "8919             04-12-2020     04-12-2020   \n",
       "8920             04-12-2020     04-12-2020   \n",
       "8921             04-12-2020     04-12-2020   \n",
       "8922             04-12-2020     04-12-2020   \n",
       "8923             04-12-2020     04-12-2020   \n",
       "8924             04-12-2020     04-12-2020   \n",
       "8925             04-12-2020     04-12-2020   \n",
       "8926             04-12-2020     04-12-2020   \n",
       "\n",
       "                                           product_name product_main_category  \\\n",
       "8917                           Luca Fashion Girls Heels             Footwear    \n",
       "8918                            Shoetopia Girls Sandals             Footwear    \n",
       "8919                        SMART TRADERS Girls Sandals             Footwear    \n",
       "8920                                  Beanz Girls Flats             Footwear    \n",
       "8921                       Nova KT 728S Electric Kettle       Home & Kitchen    \n",
       "8922  Sinina Chanderi Embroidered Salwar Suit Dupatt...             Clothing    \n",
       "8923  Aarushi Fashion Chanderi Embroidered Salwar Su...             Clothing    \n",
       "8924  Ambika Lahenga Embroidered Lehenga, Choli and ...             Clothing    \n",
       "8925  Sinina Chanderi Embroidered Salwar Suit Dupatt...             Clothing    \n",
       "8926  Aarushi Fashion Silk Striped Salwar Suit Dupat...             Clothing    \n",
       "\n",
       "            product_subcategory                product_category_filter  \\\n",
       "8917   Kids' & Infant Footwear                              For Girls    \n",
       "8918   Kids' & Infant Footwear                              For Girls    \n",
       "8919   Kids' & Infant Footwear                              For Girls    \n",
       "8920   Kids' & Infant Footwear                              For Girls    \n",
       "8921        Kitchen Appliances    Electric Jug(heater)/Travel Kettles    \n",
       "8922          Women's Clothing                            Ethnic Wear    \n",
       "8923          Women's Clothing                            Ethnic Wear    \n",
       "8924          Women's Clothing                            Ethnic Wear    \n",
       "8925          Women's Clothing                            Ethnic Wear    \n",
       "8926          Women's Clothing                            Ethnic Wear    \n",
       "\n",
       "                      product_category_subfilter product_unique ID  \\\n",
       "8917                                    Sandals   SNDEHG3DNVBFGAT5   \n",
       "8918                                    Sandals   SNDEG7DRWSX8HFXZ   \n",
       "8919                                    Sandals   SNDEG7MZHHKZ58D2   \n",
       "8920                                    Sandals   SNDEG7DYVFWHZBC4   \n",
       "8921   Nova Electric Jug(heater)/Travel Kettles   EKTDG5C5QSADZZ8J   \n",
       "8922                                     Fabric   FABEGGHHDFMY8BZU   \n",
       "8923                                     Fabric   FABEG8GFDUWRSNU3   \n",
       "8924                             Lehenga Cholis   LEHEGGEHYN4G2RPW   \n",
       "8925                                     Fabric   FABEGGHHGSVCHGFV   \n",
       "8926                                     Fabric   FABEG8GYDAABECZH   \n",
       "\n",
       "      retail_price  discounted_price  product_rating            Brand  \\\n",
       "8917           999               499             4.0     Luca Fashion   \n",
       "8918           499               399             4.0        Shoetopia   \n",
       "8919           999               499             5.0    SMART TRADERS   \n",
       "8920          1299              1299             3.0            Beanz   \n",
       "8921          3195               699             3.6             Nova   \n",
       "8922          2980              1490             3.0           Sinina   \n",
       "8923          2600              1300             1.0  Aarushi Fashion   \n",
       "8924         39992             24995             1.0   Ambika Lahenga   \n",
       "8925          2000              1000             3.0           Sinina   \n",
       "8926          2800              1350             4.0  Aarushi Fashion   \n",
       "\n",
       "                                 product_specifications  \\\n",
       "8917  {\"product_specification\"=>[{\"key\"=>\"Occasion\",...   \n",
       "8918  {\"product_specification\"=>[{\"key\"=>\"Ideal For\"...   \n",
       "8919  {\"product_specification\"=>[{\"key\"=>\"Ideal For\"...   \n",
       "8920  {\"product_specification\"=>[{\"key\"=>\"Occasion\",...   \n",
       "8921  {\"product_specification\"=>[{\"key\"=>\"Brand\", \"v...   \n",
       "8922  {\"product_specification\"=>[{\"key\"=>\"Fabric\", \"...   \n",
       "8923  {\"product_specification\"=>[{\"key\"=>\"Fabric\", \"...   \n",
       "8924  {\"product_specification\"=>[{\"key\"=>\"Fabric\", \"...   \n",
       "8925  {\"product_specification\"=>[{\"key\"=>\"Fabric\", \"...   \n",
       "8926  {\"product_specification\"=>[{\"key\"=>\"Fabric\", \"...   \n",
       "\n",
       "                                            description  \n",
       "8917  Key Features of Luca Fashion Girls Heels Occas...  \n",
       "8918  Key Features of Shoetopia Girls Sandals Flats ...  \n",
       "8919  Key Features of SMART TRADERS Girls Sandals Oc...  \n",
       "8920  Key Features of Beanz Girls Flats Occasion: Ca...  \n",
       "8921  Specifications of Nova KT 728S Electric Kettle...  \n",
       "8922  Key Features of Sinina Chanderi Embroidered Sa...  \n",
       "8923  Key Features of Aarushi Fashion Chanderi Embro...  \n",
       "8924  Key Features of Ambika Lahenga Embroidered Leh...  \n",
       "8925  Key Features of Sinina Chanderi Embroidered Sa...  \n",
       "8926  Key Features of Aarushi Fashion Silk Striped S...  "
      ]
     },
     "execution_count": 4,
     "metadata": {},
     "output_type": "execute_result"
    }
   ],
   "source": [
    "#printing last 10 entries of the dataframe\n",
    "ECom_Data.tail(10)"
   ]
  },
  {
   "cell_type": "markdown",
   "metadata": {},
   "source": [
    "<span style='color:green'> **Ans 1. b)** </span>"
   ]
  },
  {
   "cell_type": "markdown",
   "metadata": {},
   "source": [
    "#### The *.shape* attribute returns the size of the data frame in a tuple where 1st element represnts no. of rows and 2nd Element represents no. of columns i.e. (*rows*,*columns*)"
   ]
  },
  {
   "cell_type": "code",
   "execution_count": 5,
   "metadata": {},
   "outputs": [
    {
     "data": {
      "text/plain": [
       "(8927, 17)"
      ]
     },
     "execution_count": 5,
     "metadata": {},
     "output_type": "execute_result"
    }
   ],
   "source": [
    "ECom_Data.shape"
   ]
  },
  {
   "cell_type": "code",
   "execution_count": 6,
   "metadata": {},
   "outputs": [
    {
     "name": "stdout",
     "output_type": "stream",
     "text": [
      "No. of Rows: 8927\n",
      "No. of Columns: 17\n"
     ]
    }
   ],
   "source": [
    "#This can be cleanly formatted as:\n",
    "print(f\"No. of Rows: {ECom_Data.shape[0]}\")\n",
    "print(f\"No. of Columns: {ECom_Data.shape[1]}\")"
   ]
  },
  {
   "cell_type": "markdown",
   "metadata": {},
   "source": [
    "#### Another way to acquire the dimensions of the dataframe is by counting the no. of elements on each axes. "
   ]
  },
  {
   "cell_type": "markdown",
   "metadata": {},
   "source": [
    "#### Counting length of dataframe gives us the no. of rows and counting the length of the attribute *.columns* gives us no. of columns"
   ]
  },
  {
   "cell_type": "code",
   "execution_count": 7,
   "metadata": {},
   "outputs": [
    {
     "name": "stdout",
     "output_type": "stream",
     "text": [
      "No. of Rows: 8927\n",
      "No. of Columns: 17\n"
     ]
    }
   ],
   "source": [
    "#Counting the elemnts in each axes also gives us the dimension of the dataframe\n",
    "print(f\"No. of Rows: {len(ECom_Data)}\")\n",
    "print(f\"No. of Columns: {len(ECom_Data.columns)}\")"
   ]
  },
  {
   "cell_type": "markdown",
   "metadata": {},
   "source": [
    "<span style='color:green'> **Ans 1. c)** </span>"
   ]
  },
  {
   "cell_type": "markdown",
   "metadata": {},
   "source": [
    "#### The *.info* method Gives us a overview of the data stored and their data types "
   ]
  },
  {
   "cell_type": "code",
   "execution_count": 8,
   "metadata": {},
   "outputs": [
    {
     "name": "stdout",
     "output_type": "stream",
     "text": [
      "<class 'pandas.core.frame.DataFrame'>\n",
      "RangeIndex: 8927 entries, 0 to 8926\n",
      "Data columns (total 17 columns):\n",
      " #   Column                      Non-Null Count  Dtype  \n",
      "---  ------                      --------------  -----  \n",
      " 0   Customer_uniq_id            8927 non-null   object \n",
      " 1   Region                      8927 non-null   object \n",
      " 2   Order_Date                  8927 non-null   object \n",
      " 3   Expected_Delivery_Date      8927 non-null   object \n",
      " 4   Delivered_Date              8927 non-null   object \n",
      " 5   product_name                8927 non-null   object \n",
      " 6   product_main_category       8927 non-null   object \n",
      " 7   product_subcategory         8927 non-null   object \n",
      " 8   product_category_filter     8927 non-null   object \n",
      " 9   product_category_subfilter  8927 non-null   object \n",
      " 10  product_unique ID           8927 non-null   object \n",
      " 11  retail_price                8927 non-null   int64  \n",
      " 12  discounted_price            8927 non-null   int64  \n",
      " 13  product_rating              8927 non-null   float64\n",
      " 14  Brand                       8927 non-null   object \n",
      " 15  product_specifications      8927 non-null   object \n",
      " 16  description                 8927 non-null   object \n",
      "dtypes: float64(1), int64(2), object(14)\n",
      "memory usage: 1.2+ MB\n"
     ]
    }
   ],
   "source": [
    "#Info method returns the non null data available and its data type to the corresponding columns\n",
    "ECom_Data.info()"
   ]
  },
  {
   "cell_type": "markdown",
   "metadata": {},
   "source": [
    "#### As seen above it appears there are **14** series or columns with 'object' datatype"
   ]
  },
  {
   "cell_type": "markdown",
   "metadata": {},
   "source": [
    "<span style='color:green'> **Ans 1. d)** </span>"
   ]
  },
  {
   "cell_type": "markdown",
   "metadata": {},
   "source": [
    "#### Again utilising the *.info* method"
   ]
  },
  {
   "cell_type": "code",
   "execution_count": 9,
   "metadata": {},
   "outputs": [
    {
     "name": "stdout",
     "output_type": "stream",
     "text": [
      "<class 'pandas.core.frame.DataFrame'>\n",
      "RangeIndex: 8927 entries, 0 to 8926\n",
      "Data columns (total 17 columns):\n",
      " #   Column                      Non-Null Count  Dtype  \n",
      "---  ------                      --------------  -----  \n",
      " 0   Customer_uniq_id            8927 non-null   object \n",
      " 1   Region                      8927 non-null   object \n",
      " 2   Order_Date                  8927 non-null   object \n",
      " 3   Expected_Delivery_Date      8927 non-null   object \n",
      " 4   Delivered_Date              8927 non-null   object \n",
      " 5   product_name                8927 non-null   object \n",
      " 6   product_main_category       8927 non-null   object \n",
      " 7   product_subcategory         8927 non-null   object \n",
      " 8   product_category_filter     8927 non-null   object \n",
      " 9   product_category_subfilter  8927 non-null   object \n",
      " 10  product_unique ID           8927 non-null   object \n",
      " 11  retail_price                8927 non-null   int64  \n",
      " 12  discounted_price            8927 non-null   int64  \n",
      " 13  product_rating              8927 non-null   float64\n",
      " 14  Brand                       8927 non-null   object \n",
      " 15  product_specifications      8927 non-null   object \n",
      " 16  description                 8927 non-null   object \n",
      "dtypes: float64(1), int64(2), object(14)\n",
      "memory usage: 1.2+ MB\n"
     ]
    }
   ],
   "source": [
    "#Info method returns the non null data available and its data type to the corresponding columns\n",
    "ECom_Data.info()"
   ]
  },
  {
   "cell_type": "markdown",
   "metadata": {},
   "source": [
    "#### As we can see, there are **NO** 'Boolean' Data types in the given dataframe"
   ]
  },
  {
   "cell_type": "markdown",
   "metadata": {},
   "source": [
    "### Q 2.\tEliminating the non-informative columns."
   ]
  },
  {
   "cell_type": "markdown",
   "metadata": {},
   "source": [
    "#### a) Drop the columns product_specifications and description. (2 marks) \n",
    "#### b) Which method or function is used to permanently delete the columns mentioned in part (a)? Write the code explicitly (2 marks)"
   ]
  },
  {
   "cell_type": "markdown",
   "metadata": {},
   "source": [
    "<span style='color:green'> **Ans 2. a)** </span>"
   ]
  },
  {
   "cell_type": "markdown",
   "metadata": {},
   "source": [
    "#### The two specified columns 'product_specifications' and 'descriptions' can be dropped using the *.drop()* method\n",
    "#### *.drop()* does not permanantly change the original data frame unless or until explicitly specified, hence we must always assign it to a new dataframe if we are not permanantly wanting to delete the columns"
   ]
  },
  {
   "cell_type": "code",
   "execution_count": 10,
   "metadata": {},
   "outputs": [
    {
     "data": {
      "text/plain": [
       "Index(['Customer_uniq_id', 'Region', 'Order_Date', 'Expected_Delivery_Date',\n",
       "       'Delivered_Date', 'product_name', 'product_main_category',\n",
       "       'product_subcategory', 'product_category_filter',\n",
       "       'product_category_subfilter', 'product_unique ID', 'retail_price',\n",
       "       'discounted_price', 'product_rating', 'Brand', 'product_specifications',\n",
       "       'description'],\n",
       "      dtype='object')"
      ]
     },
     "execution_count": 10,
     "metadata": {},
     "output_type": "execute_result"
    }
   ],
   "source": [
    "#Columns of the Original dataframe\n",
    "ECom_Data.columns"
   ]
  },
  {
   "cell_type": "code",
   "execution_count": 11,
   "metadata": {},
   "outputs": [
    {
     "data": {
      "text/plain": [
       "Index(['Customer_uniq_id', 'Region', 'Order_Date', 'Expected_Delivery_Date',\n",
       "       'Delivered_Date', 'product_name', 'product_main_category',\n",
       "       'product_subcategory', 'product_category_filter',\n",
       "       'product_category_subfilter', 'product_unique ID', 'retail_price',\n",
       "       'discounted_price', 'product_rating', 'Brand'],\n",
       "      dtype='object')"
      ]
     },
     "execution_count": 11,
     "metadata": {},
     "output_type": "execute_result"
    }
   ],
   "source": [
    "#Assing to new varaiable/dataframe and then dropping the 'product_specifications' and 'descriptions' columns\n",
    "ECom_Data_TempDrop = ECom_Data.drop(['product_specifications','description'],axis =1)\n",
    "\n",
    "#We check the columns in the new temp dataframe\n",
    "ECom_Data_TempDrop.columns"
   ]
  },
  {
   "cell_type": "markdown",
   "metadata": {},
   "source": [
    "#### As we can see above, the 'product_specifications' and 'description' columns have been dropped from our dataframe"
   ]
  },
  {
   "cell_type": "markdown",
   "metadata": {},
   "source": [
    "<span style='color:green'> **Ans 2. b)** </span>"
   ]
  },
  {
   "cell_type": "markdown",
   "metadata": {},
   "source": [
    "#### As we can see the original dataframe remains unaltered and the specified two columns still exist in it:"
   ]
  },
  {
   "cell_type": "code",
   "execution_count": 12,
   "metadata": {},
   "outputs": [
    {
     "data": {
      "text/plain": [
       "Index(['Customer_uniq_id', 'Region', 'Order_Date', 'Expected_Delivery_Date',\n",
       "       'Delivered_Date', 'product_name', 'product_main_category',\n",
       "       'product_subcategory', 'product_category_filter',\n",
       "       'product_category_subfilter', 'product_unique ID', 'retail_price',\n",
       "       'discounted_price', 'product_rating', 'Brand', 'product_specifications',\n",
       "       'description'],\n",
       "      dtype='object')"
      ]
     },
     "execution_count": 12,
     "metadata": {},
     "output_type": "execute_result"
    }
   ],
   "source": [
    "#Columns of the Original dataframe\n",
    "ECom_Data.columns"
   ]
  },
  {
   "cell_type": "markdown",
   "metadata": {},
   "source": [
    "#### In order to permanantly delete it we must specify the *inPlace* Marker to *True*"
   ]
  },
  {
   "cell_type": "code",
   "execution_count": 13,
   "metadata": {},
   "outputs": [
    {
     "data": {
      "text/plain": [
       "Index(['Customer_uniq_id', 'Region', 'Order_Date', 'Expected_Delivery_Date',\n",
       "       'Delivered_Date', 'product_name', 'product_main_category',\n",
       "       'product_subcategory', 'product_category_filter',\n",
       "       'product_category_subfilter', 'product_unique ID', 'retail_price',\n",
       "       'discounted_price', 'product_rating', 'Brand'],\n",
       "      dtype='object')"
      ]
     },
     "execution_count": 13,
     "metadata": {},
     "output_type": "execute_result"
    }
   ],
   "source": [
    "#dropping 'product_specifications'and 'description' columns from original dataframe permanantly\n",
    "ECom_Data.drop(['product_specifications','description'],axis = 1, inplace = True)\n",
    "\n",
    "#We check the columns after .drop to verify\n",
    "ECom_Data.columns"
   ]
  },
  {
   "cell_type": "markdown",
   "metadata": {},
   "source": [
    "#### Hence the specified columns were dropped permanantly from the original dataframe"
   ]
  },
  {
   "cell_type": "markdown",
   "metadata": {},
   "source": [
    "### Q 3. Here we summarize the data at Brand level."
   ]
  },
  {
   "cell_type": "markdown",
   "metadata": {},
   "source": [
    "#### a) How many unique Brands are there? (1 mark)\n",
    "#### b) Note that each Brand contains multiple products. Show the average product_rating within each Brand (2 marks)"
   ]
  },
  {
   "cell_type": "markdown",
   "metadata": {},
   "source": [
    "<span style='color:green'> **Ans 3. a)** </span>"
   ]
  },
  {
   "cell_type": "markdown",
   "metadata": {},
   "source": [
    "#### The *.unique()* method returns a list of the unique occurances/instances in the given dataset, utilising that we can get the unique  brands"
   ]
  },
  {
   "cell_type": "code",
   "execution_count": 14,
   "metadata": {},
   "outputs": [
    {
     "data": {
      "text/plain": [
       "array(['Alisha', 'FabHomeDecor', 'AW', ..., 'Sinina', 'Aarushi Fashion',\n",
       "       'Ambika Lahenga'], dtype=object)"
      ]
     },
     "execution_count": 14,
     "metadata": {},
     "output_type": "execute_result"
    }
   ],
   "source": [
    "#Returns a list/array uniques instances\n",
    "ECom_Data[\"Brand\"].unique()"
   ]
  },
  {
   "cell_type": "markdown",
   "metadata": {},
   "source": [
    "#### The *.nunique()* method returns the number of unique instances, with this we can the  no. of unique brands in the data set"
   ]
  },
  {
   "cell_type": "code",
   "execution_count": 15,
   "metadata": {},
   "outputs": [
    {
     "data": {
      "text/plain": [
       "2580"
      ]
     },
     "execution_count": 15,
     "metadata": {},
     "output_type": "execute_result"
    }
   ],
   "source": [
    "#Returns the number of uniques instances\n",
    "ECom_Data[\"Brand\"].nunique()"
   ]
  },
  {
   "cell_type": "markdown",
   "metadata": {},
   "source": [
    "#### There are 2580 Unique brands in the dataset"
   ]
  },
  {
   "cell_type": "markdown",
   "metadata": {},
   "source": [
    "<span style='color:green'> **Ans 3. b)** </span>"
   ]
  },
  {
   "cell_type": "markdown",
   "metadata": {},
   "source": [
    "#### We can analyse data with respect to a particular column with the help of *.groupby()* method. Such as:"
   ]
  },
  {
   "cell_type": "code",
   "execution_count": 16,
   "metadata": {},
   "outputs": [
    {
     "data": {
      "text/plain": [
       "Brand\n",
       "1OAK            1.50\n",
       "3A AUTOCARE     3.27\n",
       "3D Mat          3.00\n",
       "3kFactory       2.00\n",
       "4D              3.60\n",
       "                ... \n",
       "youniqueshop    2.00\n",
       "zDelhi.com      5.00\n",
       "zaidis          4.00\n",
       "zasmina         4.50\n",
       " Tarkan         5.00\n",
       "Name: product_rating, Length: 2580, dtype: float64"
      ]
     },
     "execution_count": 16,
     "metadata": {},
     "output_type": "execute_result"
    }
   ],
   "source": [
    "ECom_Data.groupby([\"Brand\"])[\"product_rating\"].mean().round(2)"
   ]
  },
  {
   "cell_type": "markdown",
   "metadata": {},
   "source": [
    "#### As seen from the above operation we have obtained the average rating of products by brand rounded to the 2nd decimal place "
   ]
  },
  {
   "cell_type": "markdown",
   "metadata": {},
   "source": [
    "### Q 4. Next we study the main categories of the products."
   ]
  },
  {
   "cell_type": "markdown",
   "metadata": {},
   "source": [
    "#### a) Create an appropriate plot to show the count of items ordered for each product_main_category. (5 marks).\n",
    "\n",
    "#### Hint: Create a bar chart titled \"Product Category type\" where product_main_category are on x-axis and counts are on y-axis.\n",
    "\n",
    "#### Note: Both axis labels, i.e. the names of the product_main_category and counts must be clearly legible. \n",
    "\n",
    "#### b) From the plot identify for which two product_main_category(s)  maximum and minimum orders were placed. (2 marks)\n",
    "\n",
    "#### c) Write code to print out the top 5 product_main_category(s)  in descending order? (2 marks)"
   ]
  },
  {
   "cell_type": "markdown",
   "metadata": {},
   "source": [
    "<span style='color:green'> **Ans 4. a)** </span>"
   ]
  },
  {
   "cell_type": "markdown",
   "metadata": {},
   "source": [
    "#### The appropriate graph to view the frequency/count of items in the 'product_main_category' is the bar graph and we can use *sns.countplot()* to acheive that"
   ]
  },
  {
   "cell_type": "code",
   "execution_count": 17,
   "metadata": {},
   "outputs": [
    {
     "data": {
      "image/png": "[encoded data removed]",
      "text/plain": [
       "<Figure size 1440x720 with 1 Axes>"
      ]
     },
     "metadata": {
      "needs_background": "light"
     },
     "output_type": "display_data"
    }
   ],
   "source": [
    "#Declare Figure and specify an appropriate size and title\n",
    "plt.figure(figsize=(20,10))\n",
    "plt.title(\"PRODUCT CATEGORY TYPE\",fontsize=25, weight=\"bold\")\n",
    "\n",
    "#Remove outer border and set grid style \n",
    "sns.despine()\n",
    "sns.set_style(\"whitegrid\")\n",
    "\n",
    "#Plot the graph using seabont countplot and specify where data values must appear\n",
    "ax = sns.countplot(data= ECom_Data, x= \"product_main_category\");\n",
    "ax.bar_label(ax.containers[0],label_type=\"edge\",fontsize= 14);\n",
    "\n",
    "#Label the axes and rotate the label of the categories so that it is readable \n",
    "plt.xticks(rotation = 90)\n",
    "plt.xlabel(\"Product Main Category\",fontsize=15, weight=\"bold\");\n",
    "plt.ylabel(\"Count/ No. of Orders Placed\",fontsize=15, weight=\"bold\");\n",
    "ax.tick_params(labelsize = 14)"
   ]
  },
  {
   "cell_type": "markdown",
   "metadata": {},
   "source": [
    "<span style='color:green'> **Ans 4. b)** </span>"
   ]
  },
  {
   "cell_type": "markdown",
   "metadata": {},
   "source": [
    "#### From the Graph it is clearly evident that Maximum no. of orders were placed from the **Clothing** Category with **2952** orders and minimum from **Wearable Smart Devices** with just **1** order\n",
    "#### This can be alternatively retrived from the data in the followng way:"
   ]
  },
  {
   "cell_type": "code",
   "execution_count": 18,
   "metadata": {},
   "outputs": [
    {
     "data": {
      "text/plain": [
       "Clothing                       2952\n",
       "Mobiles & Accessories          1084\n",
       "Automotive                     1001\n",
       "Home Decor & Festive Needs      727\n",
       "Computers                       558\n",
       "                               ... \n",
       "Pet Supplies                     22\n",
       "Home Entertainment               17\n",
       "Household Supplies                4\n",
       "Food & Nutrition                  2\n",
       "Wearable Smart Devices            1\n",
       "Name: product_main_category, Length: 26, dtype: int64"
      ]
     },
     "execution_count": 18,
     "metadata": {},
     "output_type": "execute_result"
    }
   ],
   "source": [
    "#value_counts gives no of arders by default arranged in descending order\n",
    "ECom_Data[\"product_main_category\"].value_counts()"
   ]
  },
  {
   "cell_type": "code",
   "execution_count": 19,
   "metadata": {},
   "outputs": [
    {
     "name": "stdout",
     "output_type": "stream",
     "text": [
      "The maximum no. of orders were placed in 'Clothing 'category with a total of '2952' order(s)\n"
     ]
    }
   ],
   "source": [
    "#Maximum Value is given as\n",
    "Highest_Order_Category = ECom_Data[\"product_main_category\"].value_counts().idxmax()\n",
    "Maximum_Orders = ECom_Data[\"product_main_category\"].value_counts().max()\n",
    "\n",
    "print(f\"The maximum no. of orders were placed in '{Highest_Order_Category}'category with a total of '{Maximum_Orders}' order(s)\")"
   ]
  },
  {
   "cell_type": "code",
   "execution_count": 20,
   "metadata": {},
   "outputs": [
    {
     "name": "stdout",
     "output_type": "stream",
     "text": [
      "The maximum no. of orders were placed in 'Wearable Smart Devices 'category with a total of '1' order(s)\n"
     ]
    }
   ],
   "source": [
    "#Minimum Value is given as\n",
    "Lowest_order_category = ECom_Data[\"product_main_category\"].value_counts().idxmin()\n",
    "Minimum_orders = ECom_Data[\"product_main_category\"].value_counts().min()\n",
    "\n",
    "print(f\"The maximum no. of orders were placed in '{Lowest_order_category}'category with a total of '{Minimum_orders}' order(s)\")"
   ]
  },
  {
   "cell_type": "markdown",
   "metadata": {},
   "source": [
    "<span style='color:green'> **Ans 4. c)** </span>"
   ]
  },
  {
   "cell_type": "markdown",
   "metadata": {},
   "source": [
    "#### Similarly to as seen above we can retreive the brand and the no. of orders placed sorted in descending order utilising *.value_counts()*"
   ]
  },
  {
   "cell_type": "code",
   "execution_count": 21,
   "metadata": {},
   "outputs": [
    {
     "data": {
      "text/plain": [
       "Clothing                       2952\n",
       "Mobiles & Accessories          1084\n",
       "Automotive                     1001\n",
       "Home Decor & Festive Needs      727\n",
       "Computers                       558\n",
       "Name: product_main_category, dtype: int64"
      ]
     },
     "execution_count": 21,
     "metadata": {},
     "output_type": "execute_result"
    }
   ],
   "source": [
    "#Initialise the dataset from .value_counts() to a variable\n",
    "Product_orders_category = ECom_Data[\"product_main_category\"].value_counts()\n",
    "\n",
    "#get the top 5 values in descending order:\n",
    "Product_orders_category.head(5)"
   ]
  },
  {
   "cell_type": "markdown",
   "metadata": {},
   "source": [
    "#### Hence, the top 5 product_main_category(s) in descending order is: **Clothing** , **Mobiles & Accessories**, **Automotive**, **Home Decor & Festive Needs** ,**Computers**. "
   ]
  },
  {
   "cell_type": "markdown",
   "metadata": {},
   "source": [
    "### Q 5. Find the net revenue generated by the E-Commerce company over all orders placed. (6 marks)"
   ]
  },
  {
   "cell_type": "markdown",
   "metadata": {},
   "source": [
    "<span style='color:green'> **Ans 5.** </span>"
   ]
  },
  {
   "cell_type": "markdown",
   "metadata": {},
   "source": [
    "#### So Keeping in mind the charges are 25% for above 600\n",
    "#### 15% on greater than 350 but less than or equal to 600\n",
    "#### 10% on greater than 100 but less than or equal to 350\n",
    "#### Otherwise, 5% on the final price (discounted price)"
   ]
  },
  {
   "cell_type": "code",
   "execution_count": 22,
   "metadata": {},
   "outputs": [
    {
     "data": {
      "text/html": [
       "<div>\n",
       "<style scoped>\n",
       "    .dataframe tbody tr th:only-of-type {\n",
       "        vertical-align: middle;\n",
       "    }\n",
       "\n",
       "    .dataframe tbody tr th {\n",
       "        vertical-align: top;\n",
       "    }\n",
       "\n",
       "    .dataframe thead th {\n",
       "        text-align: right;\n",
       "    }\n",
       "</style>\n",
       "<table border=\"1\" class=\"dataframe\">\n",
       "  <thead>\n",
       "    <tr style=\"text-align: right;\">\n",
       "      <th></th>\n",
       "      <th>Customer_uniq_id</th>\n",
       "      <th>Region</th>\n",
       "      <th>Order_Date</th>\n",
       "      <th>Expected_Delivery_Date</th>\n",
       "      <th>Delivered_Date</th>\n",
       "      <th>product_name</th>\n",
       "      <th>product_main_category</th>\n",
       "      <th>product_subcategory</th>\n",
       "      <th>product_category_filter</th>\n",
       "      <th>product_category_subfilter</th>\n",
       "      <th>product_unique ID</th>\n",
       "      <th>retail_price</th>\n",
       "      <th>discounted_price</th>\n",
       "      <th>product_rating</th>\n",
       "      <th>Brand</th>\n",
       "      <th>Revenue</th>\n",
       "    </tr>\n",
       "  </thead>\n",
       "  <tbody>\n",
       "    <tr>\n",
       "      <th>0</th>\n",
       "      <td>c2d766ca982eca8304150849735ffef9</td>\n",
       "      <td>North</td>\n",
       "      <td>31-12-2021</td>\n",
       "      <td>03-01-2022</td>\n",
       "      <td>02-01-2022</td>\n",
       "      <td>Alisha Solid Women's Cycling Shorts</td>\n",
       "      <td>Clothing</td>\n",
       "      <td>Women's Clothing</td>\n",
       "      <td>Lingerie, Sleep &amp; Swimwear</td>\n",
       "      <td>Shorts</td>\n",
       "      <td>SRTEH2FF9KEDEFGF</td>\n",
       "      <td>999</td>\n",
       "      <td>379</td>\n",
       "      <td>2.0</td>\n",
       "      <td>Alisha</td>\n",
       "      <td>56.85</td>\n",
       "    </tr>\n",
       "    <tr>\n",
       "      <th>1</th>\n",
       "      <td>7f7036a6d550aaa89d34c77bd39a5e48</td>\n",
       "      <td>East</td>\n",
       "      <td>31-12-2021</td>\n",
       "      <td>03-01-2022</td>\n",
       "      <td>02-01-2022</td>\n",
       "      <td>FabHomeDecor Fabric Double Sofa Bed</td>\n",
       "      <td>Furniture</td>\n",
       "      <td>Living Room Furniture</td>\n",
       "      <td>Sofa Beds &amp; Futons</td>\n",
       "      <td>FabHomeDecor Fabric Double Sofa Bed (Finish C...</td>\n",
       "      <td>SBEEH3QGU7MFYJFY</td>\n",
       "      <td>32157</td>\n",
       "      <td>22646</td>\n",
       "      <td>2.0</td>\n",
       "      <td>FabHomeDecor</td>\n",
       "      <td>5661.50</td>\n",
       "    </tr>\n",
       "    <tr>\n",
       "      <th>2</th>\n",
       "      <td>f449ec65dcbc041b6ae5e6a32717d01b</td>\n",
       "      <td>East</td>\n",
       "      <td>31-12-2021</td>\n",
       "      <td>03-01-2022</td>\n",
       "      <td>02-01-2022</td>\n",
       "      <td>AW Bellies</td>\n",
       "      <td>Footwear</td>\n",
       "      <td>Women's Footwear</td>\n",
       "      <td>Ballerinas</td>\n",
       "      <td>AW Bellies</td>\n",
       "      <td>SHOEH4GRSUBJGZXE</td>\n",
       "      <td>999</td>\n",
       "      <td>499</td>\n",
       "      <td>1.0</td>\n",
       "      <td>AW</td>\n",
       "      <td>74.85</td>\n",
       "    </tr>\n",
       "    <tr>\n",
       "      <th>3</th>\n",
       "      <td>0973b37acd0c664e3de26e97e5571454</td>\n",
       "      <td>West</td>\n",
       "      <td>31-12-2021</td>\n",
       "      <td>03-01-2022</td>\n",
       "      <td>02-01-2022</td>\n",
       "      <td>Alisha Solid Women's Cycling Shorts</td>\n",
       "      <td>Clothing</td>\n",
       "      <td>Women's Clothing</td>\n",
       "      <td>Lingerie, Sleep &amp; Swimwear</td>\n",
       "      <td>Shorts</td>\n",
       "      <td>SRTEH2F6HUZMQ6SJ</td>\n",
       "      <td>699</td>\n",
       "      <td>267</td>\n",
       "      <td>5.0</td>\n",
       "      <td>Alisha</td>\n",
       "      <td>26.70</td>\n",
       "    </tr>\n",
       "    <tr>\n",
       "      <th>4</th>\n",
       "      <td>bc940ea42ee6bef5ac7cea3fb5cfbee7</td>\n",
       "      <td>West</td>\n",
       "      <td>31-12-2021</td>\n",
       "      <td>03-01-2022</td>\n",
       "      <td>02-01-2022</td>\n",
       "      <td>Sicons All Purpose Arnica Dog Shampoo</td>\n",
       "      <td>Pet Supplies</td>\n",
       "      <td>Grooming</td>\n",
       "      <td>Skin &amp; Coat Care</td>\n",
       "      <td>Shampoo</td>\n",
       "      <td>PSOEH3ZYDMSYARJ5</td>\n",
       "      <td>220</td>\n",
       "      <td>210</td>\n",
       "      <td>5.0</td>\n",
       "      <td>Sicons</td>\n",
       "      <td>21.00</td>\n",
       "    </tr>\n",
       "  </tbody>\n",
       "</table>\n",
       "</div>"
      ],
      "text/plain": [
       "                   Customer_uniq_id Region  Order_Date Expected_Delivery_Date  \\\n",
       "0  c2d766ca982eca8304150849735ffef9  North  31-12-2021             03-01-2022   \n",
       "1  7f7036a6d550aaa89d34c77bd39a5e48  East   31-12-2021             03-01-2022   \n",
       "2  f449ec65dcbc041b6ae5e6a32717d01b  East   31-12-2021             03-01-2022   \n",
       "3  0973b37acd0c664e3de26e97e5571454   West  31-12-2021             03-01-2022   \n",
       "4  bc940ea42ee6bef5ac7cea3fb5cfbee7   West  31-12-2021             03-01-2022   \n",
       "\n",
       "  Delivered_Date                           product_name product_main_category  \\\n",
       "0     02-01-2022    Alisha Solid Women's Cycling Shorts             Clothing    \n",
       "1     02-01-2022    FabHomeDecor Fabric Double Sofa Bed            Furniture    \n",
       "2     02-01-2022                             AW Bellies             Footwear    \n",
       "3     02-01-2022    Alisha Solid Women's Cycling Shorts             Clothing    \n",
       "4     02-01-2022  Sicons All Purpose Arnica Dog Shampoo         Pet Supplies    \n",
       "\n",
       "       product_subcategory       product_category_filter  \\\n",
       "0        Women's Clothing    Lingerie, Sleep & Swimwear    \n",
       "1   Living Room Furniture            Sofa Beds & Futons    \n",
       "2        Women's Footwear                    Ballerinas    \n",
       "3        Women's Clothing    Lingerie, Sleep & Swimwear    \n",
       "4                Grooming              Skin & Coat Care    \n",
       "\n",
       "                          product_category_subfilter product_unique ID  \\\n",
       "0                                            Shorts   SRTEH2FF9KEDEFGF   \n",
       "1   FabHomeDecor Fabric Double Sofa Bed (Finish C...  SBEEH3QGU7MFYJFY   \n",
       "2                                         AW Bellies  SHOEH4GRSUBJGZXE   \n",
       "3                                            Shorts   SRTEH2F6HUZMQ6SJ   \n",
       "4                                           Shampoo   PSOEH3ZYDMSYARJ5   \n",
       "\n",
       "   retail_price  discounted_price  product_rating         Brand  Revenue  \n",
       "0           999               379             2.0        Alisha    56.85  \n",
       "1         32157             22646             2.0  FabHomeDecor  5661.50  \n",
       "2           999               499             1.0            AW    74.85  \n",
       "3           699               267             5.0        Alisha    26.70  \n",
       "4           220               210             5.0        Sicons    21.00  "
      ]
     },
     "execution_count": 22,
     "metadata": {},
     "output_type": "execute_result"
    }
   ],
   "source": [
    "#initialise variable\n",
    "ECom_Data[\"Revenue\"]  = 0\n",
    "i = 0\n",
    "\n",
    "#Based upon the given charges for each bracket cumilatively add the revenue for each order\n",
    "for price in ECom_Data[\"discounted_price\"] :\n",
    "    if price > 600:\n",
    "       ECom_Data[\"Revenue\"][i] = (0.25 * price)\n",
    "       \n",
    "    elif price <= 600 and price > 350 :\n",
    "        ECom_Data[\"Revenue\"][i] = (0.15 * price)\n",
    "        \n",
    "    elif price <= 350 and price > 100 :\n",
    "        ECom_Data[\"Revenue\"][i] = (0.1 * price)\n",
    "        \n",
    "    else:\n",
    "        ECom_Data[\"Revenue\"][i] = (0.05 * price)\n",
    "    i += 1\n",
    " \n",
    "ECom_Data.head(5)\n"
   ]
  },
  {
   "cell_type": "markdown",
   "metadata": {},
   "source": [
    "#### Hence we add another column containing the Revenue the E - Commerce Company gained from each order"
   ]
  },
  {
   "cell_type": "code",
   "execution_count": 23,
   "metadata": {},
   "outputs": [
    {
     "name": "stdout",
     "output_type": "stream",
     "text": [
      "The total Revenue over 8927 orders is 2242221.75 INR\n"
     ]
    }
   ],
   "source": [
    "Total_Revenue = round(ECom_Data[\"Revenue\"].sum(), 2)\n",
    "print(f\"The total Revenue over {len(ECom_Data)} orders is {Total_Revenue} INR\")"
   ]
  },
  {
   "cell_type": "markdown",
   "metadata": {},
   "source": [
    "#### Therefore the total revenue earned over 8927 orders is 22,42,221.75 Rupees"
   ]
  },
  {
   "cell_type": "markdown",
   "metadata": {},
   "source": [
    "### Q 6. Calculate the Net Brand Revenue for each Brand and list the top 14 Brand having maximum revenue in descending order (5 marks)"
   ]
  },
  {
   "cell_type": "markdown",
   "metadata": {},
   "source": [
    "<span style='color:green'> **Ans 6.** </span>"
   ]
  },
  {
   "cell_type": "markdown",
   "metadata": {},
   "source": [
    "#### The net brand revenue is given as revenue after all deductions"
   ]
  },
  {
   "cell_type": "code",
   "execution_count": 24,
   "metadata": {},
   "outputs": [
    {
     "data": {
      "text/plain": [
       "Allure Auto     498464.25\n",
       "GAGA            237390.00\n",
       "Slim            212062.60\n",
       "DailyObjects    181980.00\n",
       "Diviniti        143115.00\n",
       "Regular         126112.35\n",
       "Enthopia        123146.25\n",
       "TheLostPuppy    116595.35\n",
       "Asus             99241.50\n",
       "Springwel        88978.50\n",
       "Audeze           87219.00\n",
       "Lal Haveli       74239.95\n",
       "Speedwav         68560.20\n",
       "FabHomeDecor     67938.00\n",
       "dtype: float64"
      ]
     },
     "execution_count": 24,
     "metadata": {},
     "output_type": "execute_result"
    }
   ],
   "source": [
    "#Initialise The unique brands and no. of brands to a variable\n",
    "Brand_List = ECom_Data[\"Brand\"].unique()\n",
    "Total_no_of_brands = ECom_Data[\"Brand\"].nunique()\n",
    "\n",
    "#Initialise a empty series with brands as the index\n",
    "Brand_revenue = pd.Series(index=Brand_List)\n",
    "\n",
    "#calculate Revene per brand after subtracting  sum of revenue lost to E-Com company from sum of orders on discounted price \n",
    "for j in range(0,Total_no_of_brands):\n",
    "    \n",
    "    Total_revenue_after_sale = ECom_Data[ECom_Data[\"Brand\"]==Brand_List[j]][\"discounted_price\"].sum()\n",
    "    Charges_lost_toEcom = ECom_Data[ECom_Data[\"Brand\"]==Brand_List[j]][\"Revenue\"].sum()\n",
    "    \n",
    "    Brand_revenue[j] = (Total_revenue_after_sale - Charges_lost_toEcom)\n",
    "\n",
    "#Sort the resultant series in descending order and view the top 14 earners\n",
    "Brand_revenue.sort_values(ascending= False).head(14)\n"
   ]
  },
  {
   "cell_type": "markdown",
   "metadata": {},
   "source": [
    "### Q 7. Compare prices of the products."
   ]
  },
  {
   "cell_type": "markdown",
   "metadata": {},
   "source": [
    "#### a)\tDraw boxplots of retail_price & discounted_price. (2 marks)\n",
    "\n",
    "#### b)\t Are there any outliers? (Yes/No) (1mark)\n",
    "\n",
    "#### c)\tCreate a scatterplot of retail_price (x-axis) and discounted_price (y-axis) (2 marks)"
   ]
  },
  {
   "cell_type": "markdown",
   "metadata": {},
   "source": [
    "<span style='color:green'> **Ans 7. a)** </span>"
   ]
  },
  {
   "cell_type": "code",
   "execution_count": 25,
   "metadata": {},
   "outputs": [
    {
     "data": {
      "text/html": [
       "<div>\n",
       "<style scoped>\n",
       "    .dataframe tbody tr th:only-of-type {\n",
       "        vertical-align: middle;\n",
       "    }\n",
       "\n",
       "    .dataframe tbody tr th {\n",
       "        vertical-align: top;\n",
       "    }\n",
       "\n",
       "    .dataframe thead th {\n",
       "        text-align: right;\n",
       "    }\n",
       "</style>\n",
       "<table border=\"1\" class=\"dataframe\">\n",
       "  <thead>\n",
       "    <tr style=\"text-align: right;\">\n",
       "      <th></th>\n",
       "      <th>retail_price</th>\n",
       "      <th>discounted_price</th>\n",
       "    </tr>\n",
       "  </thead>\n",
       "  <tbody>\n",
       "    <tr>\n",
       "      <th>0</th>\n",
       "      <td>999</td>\n",
       "      <td>379</td>\n",
       "    </tr>\n",
       "    <tr>\n",
       "      <th>1</th>\n",
       "      <td>32157</td>\n",
       "      <td>22646</td>\n",
       "    </tr>\n",
       "    <tr>\n",
       "      <th>2</th>\n",
       "      <td>999</td>\n",
       "      <td>499</td>\n",
       "    </tr>\n",
       "    <tr>\n",
       "      <th>3</th>\n",
       "      <td>699</td>\n",
       "      <td>267</td>\n",
       "    </tr>\n",
       "    <tr>\n",
       "      <th>4</th>\n",
       "      <td>220</td>\n",
       "      <td>210</td>\n",
       "    </tr>\n",
       "    <tr>\n",
       "      <th>...</th>\n",
       "      <td>...</td>\n",
       "      <td>...</td>\n",
       "    </tr>\n",
       "    <tr>\n",
       "      <th>8922</th>\n",
       "      <td>2980</td>\n",
       "      <td>1490</td>\n",
       "    </tr>\n",
       "    <tr>\n",
       "      <th>8923</th>\n",
       "      <td>2600</td>\n",
       "      <td>1300</td>\n",
       "    </tr>\n",
       "    <tr>\n",
       "      <th>8924</th>\n",
       "      <td>39992</td>\n",
       "      <td>24995</td>\n",
       "    </tr>\n",
       "    <tr>\n",
       "      <th>8925</th>\n",
       "      <td>2000</td>\n",
       "      <td>1000</td>\n",
       "    </tr>\n",
       "    <tr>\n",
       "      <th>8926</th>\n",
       "      <td>2800</td>\n",
       "      <td>1350</td>\n",
       "    </tr>\n",
       "  </tbody>\n",
       "</table>\n",
       "<p>8927 rows × 2 columns</p>\n",
       "</div>"
      ],
      "text/plain": [
       "      retail_price  discounted_price\n",
       "0              999               379\n",
       "1            32157             22646\n",
       "2              999               499\n",
       "3              699               267\n",
       "4              220               210\n",
       "...            ...               ...\n",
       "8922          2980              1490\n",
       "8923          2600              1300\n",
       "8924         39992             24995\n",
       "8925          2000              1000\n",
       "8926          2800              1350\n",
       "\n",
       "[8927 rows x 2 columns]"
      ]
     },
     "execution_count": 25,
     "metadata": {},
     "output_type": "execute_result"
    }
   ],
   "source": [
    "#let us first Initialise a new data frame with just retail price and discounted price\n",
    "Retail_and_discounted_prices = pd.DataFrame(data= ECom_Data, columns=[\"retail_price\",\"discounted_price\"])\n",
    "\n",
    "Retail_and_discounted_prices"
   ]
  },
  {
   "cell_type": "markdown",
   "metadata": {},
   "source": [
    "#### We do this mainliy so that it helps in the following steps which leads to better visualisation and aesthetics"
   ]
  },
  {
   "cell_type": "code",
   "execution_count": 26,
   "metadata": {},
   "outputs": [
    {
     "data": {
      "image/png": "[encoded data removed]",
      "text/plain": [
       "<Figure size 1440x720 with 1 Axes>"
      ]
     },
     "metadata": {},
     "output_type": "display_data"
    }
   ],
   "source": [
    "#Declare Figure and specify an appropriate size and title\n",
    "plt.figure(figsize=(20,10))\n",
    "plt.title(\"DISTRIBUTION OF RETAIL PRICE AND DISCOUNTED PRICE\",fontsize=20, weight=\"bold\")\n",
    "\n",
    "#Remove outer border and set grid style \n",
    "sns.despine()\n",
    "sns.set_style(\"whitegrid\")\n",
    "\n",
    "#Plot both the boxplots\n",
    "ax = sns.boxplot(data= pd.melt(Retail_and_discounted_prices), x=\"value\", y=\"variable\", showmeans=True)\n",
    "\n",
    "\n",
    "#Label the axes \n",
    "plt.xlabel(\"Price Value\",fontsize=15, weight=\"bold\");\n",
    "plt.ylabel(\"Price Categories\",fontsize=15, weight=\"bold\");\n",
    "ax.tick_params(labelsize = 13)"
   ]
  },
  {
   "cell_type": "markdown",
   "metadata": {},
   "source": [
    "<span style='color:green'> **Ans 7. b)** </span>"
   ]
  },
  {
   "cell_type": "markdown",
   "metadata": {},
   "source": [
    "#### As seen above **YES, THERE ARE OUTLIERS !**"
   ]
  },
  {
   "cell_type": "markdown",
   "metadata": {},
   "source": [
    "#### But we can also see that with representation of the outliers does very little to tell us about the distriution of our data, So Making it better:"
   ]
  },
  {
   "cell_type": "code",
   "execution_count": 27,
   "metadata": {},
   "outputs": [
    {
     "data": {
      "image/png": "[encoded data removed]",
      "text/plain": [
       "<Figure size 1440x720 with 1 Axes>"
      ]
     },
     "metadata": {},
     "output_type": "display_data"
    }
   ],
   "source": [
    "#Declare Figure and specify an appropriate size and title\n",
    "plt.figure(figsize=(20,10))\n",
    "plt.title(\"DISTRIBUTION OF RETAIL PRICE AND DISCOUNTED PRICE\",fontsize=20, weight=\"bold\")\n",
    "\n",
    "#Remove outer border and set grid style \n",
    "sns.despine()\n",
    "sns.set_style(\"whitegrid\")\n",
    "\n",
    "#Plot both the boxplots without outliers\n",
    "ax = sns.boxplot(data= pd.melt(Retail_and_discounted_prices), x=\"value\", y=\"variable\", showmeans=True, showfliers=False)\n",
    "\n",
    "#Label the axes \n",
    "plt.xlabel(\"Price Value\",fontsize=15, weight=\"bold\");\n",
    "plt.ylabel(\"Price Categories\",fontsize=15, weight=\"bold\");\n",
    "ax.tick_params(labelsize = 13)"
   ]
  },
  {
   "cell_type": "markdown",
   "metadata": {},
   "source": [
    "<span style='color:green'> **Ans 7. c)** </span>"
   ]
  },
  {
   "cell_type": "code",
   "execution_count": 28,
   "metadata": {},
   "outputs": [
    {
     "data": {
      "image/png": "[encoded data removed]",
      "text/plain": [
       "<Figure size 1440x720 with 1 Axes>"
      ]
     },
     "metadata": {},
     "output_type": "display_data"
    }
   ],
   "source": [
    "#Declare Figure and specify an appropriate size and title\n",
    "plt.figure(figsize=(20,10))\n",
    "plt.title(\"RETAIL PRICE vs DISCOUNTED PRICE\",fontsize=20, weight=\"bold\")\n",
    "\n",
    "#Remove outer border and set grid style \n",
    "sns.despine()\n",
    "sns.set_style(\"whitegrid\")\n",
    "\n",
    "#Plot  both the graphs \n",
    "ax = sns.scatterplot(data= ECom_Data, x=\"retail_price\", y=\"discounted_price\",)\n",
    "\n",
    "\n",
    "#Label the axes \n",
    "plt.xlabel(\"Retail Price\",fontsize=15, weight=\"bold\");\n",
    "plt.ylabel(\"Discounted Price\",fontsize=15, weight=\"bold\");\n",
    "ax.tick_params(labelsize = 13)"
   ]
  },
  {
   "cell_type": "markdown",
   "metadata": {},
   "source": [
    "### Q 8. Create a new dataframe to include the Brand specific information as stated:"
   ]
  },
  {
   "cell_type": "markdown",
   "metadata": {},
   "source": [
    "#### i.\ttotal number of orders placed per Brand\n",
    "#### ii.\ttotal retail_price per Brand\n",
    "#### iii.\ttotal discounted_price per Brand, and \n",
    "#### iv.\ttotal net BrandRevenue generated per Brand. \n",
    "\n",
    "#### Also, draw a pairplot using these four features. (3 marks)"
   ]
  },
  {
   "cell_type": "markdown",
   "metadata": {},
   "source": [
    "<span style='color:green'> **Ans 8.** </span>"
   ]
  },
  {
   "cell_type": "markdown",
   "metadata": {},
   "source": [
    "#### For Q6 We created a series containing the revenue corresponding to the brand stored onto the variable 'Brand_revenue' as seen [Here](#q-6-calculate-the-net-brand-revenue-for-each-brand-and-list-the-top-14-brand-having-maximum-revenue-in-descending-order-5-marks), We shall Utilise this."
   ]
  },
  {
   "cell_type": "code",
   "execution_count": 29,
   "metadata": {},
   "outputs": [
    {
     "data": {
      "text/plain": [
       "Alisha              2021.05\n",
       "FabHomeDecor       67938.00\n",
       "AW                  1446.55\n",
       "Sicons               419.40\n",
       "dilli bazaaar        314.10\n",
       "                     ...   \n",
       "Shoetopia            339.15\n",
       "Beanz                974.25\n",
       "Sinina              1867.50\n",
       "Aarushi Fashion     1987.50\n",
       "Ambika Lahenga     18746.25\n",
       "Length: 2580, dtype: float64"
      ]
     },
     "execution_count": 29,
     "metadata": {},
     "output_type": "execute_result"
    }
   ],
   "source": [
    "Brand_revenue"
   ]
  },
  {
   "cell_type": "markdown",
   "metadata": {},
   "source": [
    "#### Initialised a new data frame with the name 'Brand_Data' and added the revenu values we calculater earlier to it. "
   ]
  },
  {
   "cell_type": "code",
   "execution_count": 30,
   "metadata": {},
   "outputs": [
    {
     "data": {
      "text/html": [
       "<div>\n",
       "<style scoped>\n",
       "    .dataframe tbody tr th:only-of-type {\n",
       "        vertical-align: middle;\n",
       "    }\n",
       "\n",
       "    .dataframe tbody tr th {\n",
       "        vertical-align: top;\n",
       "    }\n",
       "\n",
       "    .dataframe thead th {\n",
       "        text-align: right;\n",
       "    }\n",
       "</style>\n",
       "<table border=\"1\" class=\"dataframe\">\n",
       "  <thead>\n",
       "    <tr style=\"text-align: right;\">\n",
       "      <th></th>\n",
       "      <th>net_revenue</th>\n",
       "    </tr>\n",
       "  </thead>\n",
       "  <tbody>\n",
       "    <tr>\n",
       "      <th>1OAK</th>\n",
       "      <td>1015.40</td>\n",
       "    </tr>\n",
       "    <tr>\n",
       "      <th>3A AUTOCARE</th>\n",
       "      <td>55647.90</td>\n",
       "    </tr>\n",
       "    <tr>\n",
       "      <th>3D Mat</th>\n",
       "      <td>5249.25</td>\n",
       "    </tr>\n",
       "    <tr>\n",
       "      <th>3kFactory</th>\n",
       "      <td>156.60</td>\n",
       "    </tr>\n",
       "    <tr>\n",
       "      <th>4D</th>\n",
       "      <td>5961.00</td>\n",
       "    </tr>\n",
       "    <tr>\n",
       "      <th>...</th>\n",
       "      <td>...</td>\n",
       "    </tr>\n",
       "    <tr>\n",
       "      <th>youniqueshop</th>\n",
       "      <td>480.00</td>\n",
       "    </tr>\n",
       "    <tr>\n",
       "      <th>zDelhi.com</th>\n",
       "      <td>2999.25</td>\n",
       "    </tr>\n",
       "    <tr>\n",
       "      <th>zaidis</th>\n",
       "      <td>116.10</td>\n",
       "    </tr>\n",
       "    <tr>\n",
       "      <th>zasmina</th>\n",
       "      <td>575.10</td>\n",
       "    </tr>\n",
       "    <tr>\n",
       "      <th>Tarkan</th>\n",
       "      <td>314.10</td>\n",
       "    </tr>\n",
       "  </tbody>\n",
       "</table>\n",
       "<p>2580 rows × 1 columns</p>\n",
       "</div>"
      ],
      "text/plain": [
       "              net_revenue\n",
       "1OAK              1015.40\n",
       "3A AUTOCARE      55647.90\n",
       "3D Mat            5249.25\n",
       "3kFactory          156.60\n",
       "4D                5961.00\n",
       "...                   ...\n",
       "youniqueshop       480.00\n",
       "zDelhi.com        2999.25\n",
       "zaidis             116.10\n",
       "zasmina            575.10\n",
       " Tarkan            314.10\n",
       "\n",
       "[2580 rows x 1 columns]"
      ]
     },
     "execution_count": 30,
     "metadata": {},
     "output_type": "execute_result"
    }
   ],
   "source": [
    "#Initialise a new dataframe and add the net revenue value to it \n",
    "Brand_Data = pd.DataFrame(data= Brand_revenue, index= Brand_revenue.index, columns= [\"net_revenue\"])\n",
    "\n",
    "#Sort the data frame values in alphabetical order of the index so that adding data to the data frame becomes easier\n",
    "Brand_Data.sort_index(ascending=True, inplace=True)\n",
    "Brand_Data\n"
   ]
  },
  {
   "cell_type": "markdown",
   "metadata": {},
   "source": [
    "#### Adding 'number_of_orders' data set containing the total number of orders placed by brand onto the dataframe"
   ]
  },
  {
   "cell_type": "code",
   "execution_count": 31,
   "metadata": {},
   "outputs": [
    {
     "data": {
      "text/html": [
       "<div>\n",
       "<style scoped>\n",
       "    .dataframe tbody tr th:only-of-type {\n",
       "        vertical-align: middle;\n",
       "    }\n",
       "\n",
       "    .dataframe tbody tr th {\n",
       "        vertical-align: top;\n",
       "    }\n",
       "\n",
       "    .dataframe thead th {\n",
       "        text-align: right;\n",
       "    }\n",
       "</style>\n",
       "<table border=\"1\" class=\"dataframe\">\n",
       "  <thead>\n",
       "    <tr style=\"text-align: right;\">\n",
       "      <th></th>\n",
       "      <th>net_revenue</th>\n",
       "      <th>number_of_orders</th>\n",
       "    </tr>\n",
       "  </thead>\n",
       "  <tbody>\n",
       "    <tr>\n",
       "      <th>1OAK</th>\n",
       "      <td>1015.40</td>\n",
       "      <td>2</td>\n",
       "    </tr>\n",
       "    <tr>\n",
       "      <th>3A AUTOCARE</th>\n",
       "      <td>55647.90</td>\n",
       "      <td>41</td>\n",
       "    </tr>\n",
       "    <tr>\n",
       "      <th>3D Mat</th>\n",
       "      <td>5249.25</td>\n",
       "      <td>1</td>\n",
       "    </tr>\n",
       "    <tr>\n",
       "      <th>3kFactory</th>\n",
       "      <td>156.60</td>\n",
       "      <td>1</td>\n",
       "    </tr>\n",
       "    <tr>\n",
       "      <th>4D</th>\n",
       "      <td>5961.00</td>\n",
       "      <td>5</td>\n",
       "    </tr>\n",
       "    <tr>\n",
       "      <th>...</th>\n",
       "      <td>...</td>\n",
       "      <td>...</td>\n",
       "    </tr>\n",
       "    <tr>\n",
       "      <th>youniqueshop</th>\n",
       "      <td>480.00</td>\n",
       "      <td>1</td>\n",
       "    </tr>\n",
       "    <tr>\n",
       "      <th>zDelhi.com</th>\n",
       "      <td>2999.25</td>\n",
       "      <td>1</td>\n",
       "    </tr>\n",
       "    <tr>\n",
       "      <th>zaidis</th>\n",
       "      <td>116.10</td>\n",
       "      <td>1</td>\n",
       "    </tr>\n",
       "    <tr>\n",
       "      <th>zasmina</th>\n",
       "      <td>575.10</td>\n",
       "      <td>2</td>\n",
       "    </tr>\n",
       "    <tr>\n",
       "      <th>Tarkan</th>\n",
       "      <td>314.10</td>\n",
       "      <td>1</td>\n",
       "    </tr>\n",
       "  </tbody>\n",
       "</table>\n",
       "<p>2580 rows × 2 columns</p>\n",
       "</div>"
      ],
      "text/plain": [
       "              net_revenue  number_of_orders\n",
       "1OAK              1015.40                 2\n",
       "3A AUTOCARE      55647.90                41\n",
       "3D Mat            5249.25                 1\n",
       "3kFactory          156.60                 1\n",
       "4D                5961.00                 5\n",
       "...                   ...               ...\n",
       "youniqueshop       480.00                 1\n",
       "zDelhi.com        2999.25                 1\n",
       "zaidis             116.10                 1\n",
       "zasmina            575.10                 2\n",
       " Tarkan            314.10                 1\n",
       "\n",
       "[2580 rows x 2 columns]"
      ]
     },
     "execution_count": 31,
     "metadata": {},
     "output_type": "execute_result"
    }
   ],
   "source": [
    "#Store the alphabetically sorted number of orders per brand onto a temp variable \n",
    "Temp_var = ECom_Data[\"Brand\"].value_counts().sort_index(ascending=True)\n",
    "\n",
    "#Append the data set onto the Brand_data Dataframe\n",
    "Brand_Data[\"number_of_orders\"] = Temp_var\n",
    "Brand_Data"
   ]
  },
  {
   "cell_type": "markdown",
   "metadata": {},
   "source": [
    "#### We already have 'Brand_list' and 'Total_no_of_brands' from [Here](#q-6-calculate-the-net-brand-revenue-for-each-brand-and-list-the-top-14-brand-having-maximum-revenue-in-descending-order-5-marks)"
   ]
  },
  {
   "cell_type": "code",
   "execution_count": 32,
   "metadata": {},
   "outputs": [
    {
     "name": "stdout",
     "output_type": "stream",
     "text": [
      "['Alisha' 'FabHomeDecor' 'AW' ... 'Sinina' 'Aarushi Fashion'\n",
      " 'Ambika Lahenga']\n",
      "2580\n"
     ]
    }
   ],
   "source": [
    "print(Brand_List)\n",
    "print(Total_no_of_brands)"
   ]
  },
  {
   "cell_type": "markdown",
   "metadata": {},
   "source": [
    "#### Cumilatively adding the retail price and discounted price per brand form the E Commerce data"
   ]
  },
  {
   "cell_type": "code",
   "execution_count": 33,
   "metadata": {},
   "outputs": [
    {
     "data": {
      "text/html": [
       "<div>\n",
       "<style scoped>\n",
       "    .dataframe tbody tr th:only-of-type {\n",
       "        vertical-align: middle;\n",
       "    }\n",
       "\n",
       "    .dataframe tbody tr th {\n",
       "        vertical-align: top;\n",
       "    }\n",
       "\n",
       "    .dataframe thead th {\n",
       "        text-align: right;\n",
       "    }\n",
       "</style>\n",
       "<table border=\"1\" class=\"dataframe\">\n",
       "  <thead>\n",
       "    <tr style=\"text-align: right;\">\n",
       "      <th></th>\n",
       "      <th>net_revenue</th>\n",
       "      <th>number_of_orders</th>\n",
       "      <th>total_retail_price</th>\n",
       "      <th>total_discount_price</th>\n",
       "    </tr>\n",
       "  </thead>\n",
       "  <tbody>\n",
       "    <tr>\n",
       "      <th>1OAK</th>\n",
       "      <td>1015.40</td>\n",
       "      <td>2</td>\n",
       "      <td>1698.0</td>\n",
       "      <td>1274.0</td>\n",
       "    </tr>\n",
       "    <tr>\n",
       "      <th>3A AUTOCARE</th>\n",
       "      <td>55647.90</td>\n",
       "      <td>41</td>\n",
       "      <td>107059.0</td>\n",
       "      <td>74134.0</td>\n",
       "    </tr>\n",
       "    <tr>\n",
       "      <th>3D Mat</th>\n",
       "      <td>5249.25</td>\n",
       "      <td>1</td>\n",
       "      <td>7250.0</td>\n",
       "      <td>6999.0</td>\n",
       "    </tr>\n",
       "    <tr>\n",
       "      <th>3kFactory</th>\n",
       "      <td>156.60</td>\n",
       "      <td>1</td>\n",
       "      <td>399.0</td>\n",
       "      <td>174.0</td>\n",
       "    </tr>\n",
       "    <tr>\n",
       "      <th>4D</th>\n",
       "      <td>5961.00</td>\n",
       "      <td>5</td>\n",
       "      <td>17500.0</td>\n",
       "      <td>7948.0</td>\n",
       "    </tr>\n",
       "    <tr>\n",
       "      <th>...</th>\n",
       "      <td>...</td>\n",
       "      <td>...</td>\n",
       "      <td>...</td>\n",
       "      <td>...</td>\n",
       "    </tr>\n",
       "    <tr>\n",
       "      <th>youniqueshop</th>\n",
       "      <td>480.00</td>\n",
       "      <td>1</td>\n",
       "      <td>810.0</td>\n",
       "      <td>640.0</td>\n",
       "    </tr>\n",
       "    <tr>\n",
       "      <th>zDelhi.com</th>\n",
       "      <td>2999.25</td>\n",
       "      <td>1</td>\n",
       "      <td>4499.0</td>\n",
       "      <td>3999.0</td>\n",
       "    </tr>\n",
       "    <tr>\n",
       "      <th>zaidis</th>\n",
       "      <td>116.10</td>\n",
       "      <td>1</td>\n",
       "      <td>150.0</td>\n",
       "      <td>129.0</td>\n",
       "    </tr>\n",
       "    <tr>\n",
       "      <th>zasmina</th>\n",
       "      <td>575.10</td>\n",
       "      <td>2</td>\n",
       "      <td>1400.0</td>\n",
       "      <td>639.0</td>\n",
       "    </tr>\n",
       "    <tr>\n",
       "      <th>Tarkan</th>\n",
       "      <td>314.10</td>\n",
       "      <td>1</td>\n",
       "      <td>1999.0</td>\n",
       "      <td>349.0</td>\n",
       "    </tr>\n",
       "  </tbody>\n",
       "</table>\n",
       "<p>2580 rows × 4 columns</p>\n",
       "</div>"
      ],
      "text/plain": [
       "              net_revenue  number_of_orders  total_retail_price  \\\n",
       "1OAK              1015.40                 2              1698.0   \n",
       "3A AUTOCARE      55647.90                41            107059.0   \n",
       "3D Mat            5249.25                 1              7250.0   \n",
       "3kFactory          156.60                 1               399.0   \n",
       "4D                5961.00                 5             17500.0   \n",
       "...                   ...               ...                 ...   \n",
       "youniqueshop       480.00                 1               810.0   \n",
       "zDelhi.com        2999.25                 1              4499.0   \n",
       "zaidis             116.10                 1               150.0   \n",
       "zasmina            575.10                 2              1400.0   \n",
       " Tarkan            314.10                 1              1999.0   \n",
       "\n",
       "              total_discount_price  \n",
       "1OAK                        1274.0  \n",
       "3A AUTOCARE                74134.0  \n",
       "3D Mat                      6999.0  \n",
       "3kFactory                    174.0  \n",
       "4D                          7948.0  \n",
       "...                            ...  \n",
       "youniqueshop                 640.0  \n",
       "zDelhi.com                  3999.0  \n",
       "zaidis                       129.0  \n",
       "zasmina                      639.0  \n",
       " Tarkan                      349.0  \n",
       "\n",
       "[2580 rows x 4 columns]"
      ]
     },
     "execution_count": 33,
     "metadata": {},
     "output_type": "execute_result"
    }
   ],
   "source": [
    "#Initialise empty series to store total discount and retial prices\n",
    "Total_discount_price_per_brand = pd.Series(index=Brand_List)\n",
    "Total_retail_price_per_brand = pd.Series(index=Brand_List)\n",
    "\n",
    "#calculate Total Retail price and discounted price \n",
    "for k in range(0,Total_no_of_brands):\n",
    "    \n",
    "    Total_discount_prices = ECom_Data[ECom_Data[\"Brand\"]==Brand_List[k]][\"discounted_price\"].sum()\n",
    "    Total_retail_prices = ECom_Data[ECom_Data[\"Brand\"]==Brand_List[k]][\"retail_price\"].sum()\n",
    "    \n",
    "    Total_discount_price_per_brand[k] = Total_discount_prices\n",
    "    Total_retail_price_per_brand[k] = Total_retail_prices\n",
    "\n",
    "#Store the alphabetically sorted by brand price values ontoa temp variable\n",
    "Temp_var_d = Total_discount_price_per_brand.sort_index(ascending=True)\n",
    "Temp_var_r = Total_retail_price_per_brand.sort_index(ascending=True)\n",
    "\n",
    "#Append the data set onto the Brand_data Dataframe\n",
    "Brand_Data[\"total_retail_price\"] = Temp_var_r\n",
    "Brand_Data[\"total_discount_price\"] = Temp_var_d\n",
    "\n",
    "Brand_Data\n"
   ]
  },
  {
   "cell_type": "markdown",
   "metadata": {},
   "source": [
    "#### Getting a Pair Plot of The retial price, discounted price, no of orders and revenue, we have  "
   ]
  },
  {
   "cell_type": "code",
   "execution_count": 34,
   "metadata": {},
   "outputs": [
    {
     "data": {
      "text/plain": [
       "<Figure size 1080x504 with 0 Axes>"
      ]
     },
     "metadata": {},
     "output_type": "display_data"
    },
    {
     "data": {
      "image/png": "[encoded data removed]",
      "text/plain": [
       "<Figure size 720x720 with 20 Axes>"
      ]
     },
     "metadata": {},
     "output_type": "display_data"
    }
   ],
   "source": [
    "#Declare Figure and specify an appropriate size and title\n",
    "plt.figure(figsize=(15,7));\n",
    "\n",
    "\n",
    "#Remove outer border and set grid style \n",
    "sns.despine()\n",
    "sns.set_style(\"whitegrid\")\n",
    "\n",
    "#Plot both the boxplots without outliers\n",
    "ax = sns.pairplot(data= Brand_Data[[\"number_of_orders\",\"total_retail_price\",\"total_discount_price\",\"net_revenue\"]]);\n",
    "\n"
   ]
  },
  {
   "cell_type": "markdown",
   "metadata": {},
   "source": [
    "### Q 9.Compare performance regionwise"
   ]
  },
  {
   "cell_type": "markdown",
   "metadata": {},
   "source": [
    "#### a)\tDraw a lineplot for the monthly net Revenue of E-Commerce Company for each region separately.  (4 marks) \n",
    "\n",
    "#### b)\tIdentify the best and the worst performing months for each region. (2 marks)\n",
    "\n",
    "#### Note: Only those days with actual orders(Order_Date) placed are present in the dataset. Assuming there were no orders on other days"
   ]
  },
  {
   "cell_type": "markdown",
   "metadata": {},
   "source": [
    "<span style='color:green'> **Ans 9. a)** </span>"
   ]
  },
  {
   "cell_type": "markdown",
   "metadata": {},
   "source": [
    "#### Before any operation is to be performed we need to first convert the date-time to the proper format"
   ]
  },
  {
   "cell_type": "code",
   "execution_count": 35,
   "metadata": {},
   "outputs": [
    {
     "data": {
      "text/html": [
       "<div>\n",
       "<style scoped>\n",
       "    .dataframe tbody tr th:only-of-type {\n",
       "        vertical-align: middle;\n",
       "    }\n",
       "\n",
       "    .dataframe tbody tr th {\n",
       "        vertical-align: top;\n",
       "    }\n",
       "\n",
       "    .dataframe thead th {\n",
       "        text-align: right;\n",
       "    }\n",
       "</style>\n",
       "<table border=\"1\" class=\"dataframe\">\n",
       "  <thead>\n",
       "    <tr style=\"text-align: right;\">\n",
       "      <th></th>\n",
       "      <th>Customer_uniq_id</th>\n",
       "      <th>Region</th>\n",
       "      <th>Order_Date</th>\n",
       "      <th>Expected_Delivery_Date</th>\n",
       "      <th>Delivered_Date</th>\n",
       "      <th>product_name</th>\n",
       "      <th>product_main_category</th>\n",
       "      <th>product_subcategory</th>\n",
       "      <th>product_category_filter</th>\n",
       "      <th>product_category_subfilter</th>\n",
       "      <th>product_unique ID</th>\n",
       "      <th>retail_price</th>\n",
       "      <th>discounted_price</th>\n",
       "      <th>product_rating</th>\n",
       "      <th>Brand</th>\n",
       "      <th>Revenue</th>\n",
       "    </tr>\n",
       "  </thead>\n",
       "  <tbody>\n",
       "    <tr>\n",
       "      <th>0</th>\n",
       "      <td>c2d766ca982eca8304150849735ffef9</td>\n",
       "      <td>North</td>\n",
       "      <td>2021-12-31</td>\n",
       "      <td>2022-01-03</td>\n",
       "      <td>2022-01-02</td>\n",
       "      <td>Alisha Solid Women's Cycling Shorts</td>\n",
       "      <td>Clothing</td>\n",
       "      <td>Women's Clothing</td>\n",
       "      <td>Lingerie, Sleep &amp; Swimwear</td>\n",
       "      <td>Shorts</td>\n",
       "      <td>SRTEH2FF9KEDEFGF</td>\n",
       "      <td>999</td>\n",
       "      <td>379</td>\n",
       "      <td>2.0</td>\n",
       "      <td>Alisha</td>\n",
       "      <td>56.85</td>\n",
       "    </tr>\n",
       "    <tr>\n",
       "      <th>1</th>\n",
       "      <td>7f7036a6d550aaa89d34c77bd39a5e48</td>\n",
       "      <td>East</td>\n",
       "      <td>2021-12-31</td>\n",
       "      <td>2022-01-03</td>\n",
       "      <td>2022-01-02</td>\n",
       "      <td>FabHomeDecor Fabric Double Sofa Bed</td>\n",
       "      <td>Furniture</td>\n",
       "      <td>Living Room Furniture</td>\n",
       "      <td>Sofa Beds &amp; Futons</td>\n",
       "      <td>FabHomeDecor Fabric Double Sofa Bed (Finish C...</td>\n",
       "      <td>SBEEH3QGU7MFYJFY</td>\n",
       "      <td>32157</td>\n",
       "      <td>22646</td>\n",
       "      <td>2.0</td>\n",
       "      <td>FabHomeDecor</td>\n",
       "      <td>5661.50</td>\n",
       "    </tr>\n",
       "    <tr>\n",
       "      <th>2</th>\n",
       "      <td>f449ec65dcbc041b6ae5e6a32717d01b</td>\n",
       "      <td>East</td>\n",
       "      <td>2021-12-31</td>\n",
       "      <td>2022-01-03</td>\n",
       "      <td>2022-01-02</td>\n",
       "      <td>AW Bellies</td>\n",
       "      <td>Footwear</td>\n",
       "      <td>Women's Footwear</td>\n",
       "      <td>Ballerinas</td>\n",
       "      <td>AW Bellies</td>\n",
       "      <td>SHOEH4GRSUBJGZXE</td>\n",
       "      <td>999</td>\n",
       "      <td>499</td>\n",
       "      <td>1.0</td>\n",
       "      <td>AW</td>\n",
       "      <td>74.85</td>\n",
       "    </tr>\n",
       "    <tr>\n",
       "      <th>3</th>\n",
       "      <td>0973b37acd0c664e3de26e97e5571454</td>\n",
       "      <td>West</td>\n",
       "      <td>2021-12-31</td>\n",
       "      <td>2022-01-03</td>\n",
       "      <td>2022-01-02</td>\n",
       "      <td>Alisha Solid Women's Cycling Shorts</td>\n",
       "      <td>Clothing</td>\n",
       "      <td>Women's Clothing</td>\n",
       "      <td>Lingerie, Sleep &amp; Swimwear</td>\n",
       "      <td>Shorts</td>\n",
       "      <td>SRTEH2F6HUZMQ6SJ</td>\n",
       "      <td>699</td>\n",
       "      <td>267</td>\n",
       "      <td>5.0</td>\n",
       "      <td>Alisha</td>\n",
       "      <td>26.70</td>\n",
       "    </tr>\n",
       "    <tr>\n",
       "      <th>4</th>\n",
       "      <td>bc940ea42ee6bef5ac7cea3fb5cfbee7</td>\n",
       "      <td>West</td>\n",
       "      <td>2021-12-31</td>\n",
       "      <td>2022-01-03</td>\n",
       "      <td>2022-01-02</td>\n",
       "      <td>Sicons All Purpose Arnica Dog Shampoo</td>\n",
       "      <td>Pet Supplies</td>\n",
       "      <td>Grooming</td>\n",
       "      <td>Skin &amp; Coat Care</td>\n",
       "      <td>Shampoo</td>\n",
       "      <td>PSOEH3ZYDMSYARJ5</td>\n",
       "      <td>220</td>\n",
       "      <td>210</td>\n",
       "      <td>5.0</td>\n",
       "      <td>Sicons</td>\n",
       "      <td>21.00</td>\n",
       "    </tr>\n",
       "    <tr>\n",
       "      <th>...</th>\n",
       "      <td>...</td>\n",
       "      <td>...</td>\n",
       "      <td>...</td>\n",
       "      <td>...</td>\n",
       "      <td>...</td>\n",
       "      <td>...</td>\n",
       "      <td>...</td>\n",
       "      <td>...</td>\n",
       "      <td>...</td>\n",
       "      <td>...</td>\n",
       "      <td>...</td>\n",
       "      <td>...</td>\n",
       "      <td>...</td>\n",
       "      <td>...</td>\n",
       "      <td>...</td>\n",
       "      <td>...</td>\n",
       "    </tr>\n",
       "    <tr>\n",
       "      <th>8922</th>\n",
       "      <td>90d30478255e23621e8929ed15c2f6e4</td>\n",
       "      <td>South</td>\n",
       "      <td>2020-12-01</td>\n",
       "      <td>2020-12-04</td>\n",
       "      <td>2020-12-04</td>\n",
       "      <td>Sinina Chanderi Embroidered Salwar Suit Dupatt...</td>\n",
       "      <td>Clothing</td>\n",
       "      <td>Women's Clothing</td>\n",
       "      <td>Ethnic Wear</td>\n",
       "      <td>Fabric</td>\n",
       "      <td>FABEGGHHDFMY8BZU</td>\n",
       "      <td>2980</td>\n",
       "      <td>1490</td>\n",
       "      <td>3.0</td>\n",
       "      <td>Sinina</td>\n",
       "      <td>372.50</td>\n",
       "    </tr>\n",
       "    <tr>\n",
       "      <th>8923</th>\n",
       "      <td>20a73e3f41490a73ceeba5f17658db8f</td>\n",
       "      <td>West</td>\n",
       "      <td>2020-12-01</td>\n",
       "      <td>2020-12-04</td>\n",
       "      <td>2020-12-04</td>\n",
       "      <td>Aarushi Fashion Chanderi Embroidered Salwar Su...</td>\n",
       "      <td>Clothing</td>\n",
       "      <td>Women's Clothing</td>\n",
       "      <td>Ethnic Wear</td>\n",
       "      <td>Fabric</td>\n",
       "      <td>FABEG8GFDUWRSNU3</td>\n",
       "      <td>2600</td>\n",
       "      <td>1300</td>\n",
       "      <td>1.0</td>\n",
       "      <td>Aarushi Fashion</td>\n",
       "      <td>325.00</td>\n",
       "    </tr>\n",
       "    <tr>\n",
       "      <th>8924</th>\n",
       "      <td>5c1554cd45f9d538c2c6947dbdd59c75</td>\n",
       "      <td>East</td>\n",
       "      <td>2020-12-01</td>\n",
       "      <td>2020-12-04</td>\n",
       "      <td>2020-12-04</td>\n",
       "      <td>Ambika Lahenga Embroidered Lehenga, Choli and ...</td>\n",
       "      <td>Clothing</td>\n",
       "      <td>Women's Clothing</td>\n",
       "      <td>Ethnic Wear</td>\n",
       "      <td>Lehenga Cholis</td>\n",
       "      <td>LEHEGGEHYN4G2RPW</td>\n",
       "      <td>39992</td>\n",
       "      <td>24995</td>\n",
       "      <td>1.0</td>\n",
       "      <td>Ambika Lahenga</td>\n",
       "      <td>6248.75</td>\n",
       "    </tr>\n",
       "    <tr>\n",
       "      <th>8925</th>\n",
       "      <td>6b737a4deca1ed0e56c179e66036e994</td>\n",
       "      <td>West</td>\n",
       "      <td>2020-12-01</td>\n",
       "      <td>2020-12-04</td>\n",
       "      <td>2020-12-04</td>\n",
       "      <td>Sinina Chanderi Embroidered Salwar Suit Dupatt...</td>\n",
       "      <td>Clothing</td>\n",
       "      <td>Women's Clothing</td>\n",
       "      <td>Ethnic Wear</td>\n",
       "      <td>Fabric</td>\n",
       "      <td>FABEGGHHGSVCHGFV</td>\n",
       "      <td>2000</td>\n",
       "      <td>1000</td>\n",
       "      <td>3.0</td>\n",
       "      <td>Sinina</td>\n",
       "      <td>250.00</td>\n",
       "    </tr>\n",
       "    <tr>\n",
       "      <th>8926</th>\n",
       "      <td>a5235ac28d3d5487f54025f9d6b57433</td>\n",
       "      <td>North</td>\n",
       "      <td>2020-12-01</td>\n",
       "      <td>2020-12-04</td>\n",
       "      <td>2020-12-04</td>\n",
       "      <td>Aarushi Fashion Silk Striped Salwar Suit Dupat...</td>\n",
       "      <td>Clothing</td>\n",
       "      <td>Women's Clothing</td>\n",
       "      <td>Ethnic Wear</td>\n",
       "      <td>Fabric</td>\n",
       "      <td>FABEG8GYDAABECZH</td>\n",
       "      <td>2800</td>\n",
       "      <td>1350</td>\n",
       "      <td>4.0</td>\n",
       "      <td>Aarushi Fashion</td>\n",
       "      <td>337.50</td>\n",
       "    </tr>\n",
       "  </tbody>\n",
       "</table>\n",
       "<p>8927 rows × 16 columns</p>\n",
       "</div>"
      ],
      "text/plain": [
       "                      Customer_uniq_id Region Order_Date  \\\n",
       "0     c2d766ca982eca8304150849735ffef9  North 2021-12-31   \n",
       "1     7f7036a6d550aaa89d34c77bd39a5e48  East  2021-12-31   \n",
       "2     f449ec65dcbc041b6ae5e6a32717d01b  East  2021-12-31   \n",
       "3     0973b37acd0c664e3de26e97e5571454   West 2021-12-31   \n",
       "4     bc940ea42ee6bef5ac7cea3fb5cfbee7   West 2021-12-31   \n",
       "...                                ...    ...        ...   \n",
       "8922  90d30478255e23621e8929ed15c2f6e4  South 2020-12-01   \n",
       "8923  20a73e3f41490a73ceeba5f17658db8f   West 2020-12-01   \n",
       "8924  5c1554cd45f9d538c2c6947dbdd59c75  East  2020-12-01   \n",
       "8925  6b737a4deca1ed0e56c179e66036e994   West 2020-12-01   \n",
       "8926  a5235ac28d3d5487f54025f9d6b57433  North 2020-12-01   \n",
       "\n",
       "     Expected_Delivery_Date Delivered_Date  \\\n",
       "0                2022-01-03     2022-01-02   \n",
       "1                2022-01-03     2022-01-02   \n",
       "2                2022-01-03     2022-01-02   \n",
       "3                2022-01-03     2022-01-02   \n",
       "4                2022-01-03     2022-01-02   \n",
       "...                     ...            ...   \n",
       "8922             2020-12-04     2020-12-04   \n",
       "8923             2020-12-04     2020-12-04   \n",
       "8924             2020-12-04     2020-12-04   \n",
       "8925             2020-12-04     2020-12-04   \n",
       "8926             2020-12-04     2020-12-04   \n",
       "\n",
       "                                           product_name product_main_category  \\\n",
       "0                   Alisha Solid Women's Cycling Shorts             Clothing    \n",
       "1                   FabHomeDecor Fabric Double Sofa Bed            Furniture    \n",
       "2                                            AW Bellies             Footwear    \n",
       "3                   Alisha Solid Women's Cycling Shorts             Clothing    \n",
       "4                 Sicons All Purpose Arnica Dog Shampoo         Pet Supplies    \n",
       "...                                                 ...                   ...   \n",
       "8922  Sinina Chanderi Embroidered Salwar Suit Dupatt...             Clothing    \n",
       "8923  Aarushi Fashion Chanderi Embroidered Salwar Su...             Clothing    \n",
       "8924  Ambika Lahenga Embroidered Lehenga, Choli and ...             Clothing    \n",
       "8925  Sinina Chanderi Embroidered Salwar Suit Dupatt...             Clothing    \n",
       "8926  Aarushi Fashion Silk Striped Salwar Suit Dupat...             Clothing    \n",
       "\n",
       "          product_subcategory       product_category_filter  \\\n",
       "0           Women's Clothing    Lingerie, Sleep & Swimwear    \n",
       "1      Living Room Furniture            Sofa Beds & Futons    \n",
       "2           Women's Footwear                    Ballerinas    \n",
       "3           Women's Clothing    Lingerie, Sleep & Swimwear    \n",
       "4                   Grooming              Skin & Coat Care    \n",
       "...                       ...                           ...   \n",
       "8922        Women's Clothing                   Ethnic Wear    \n",
       "8923        Women's Clothing                   Ethnic Wear    \n",
       "8924        Women's Clothing                   Ethnic Wear    \n",
       "8925        Women's Clothing                   Ethnic Wear    \n",
       "8926        Women's Clothing                   Ethnic Wear    \n",
       "\n",
       "                             product_category_subfilter product_unique ID  \\\n",
       "0                                               Shorts   SRTEH2FF9KEDEFGF   \n",
       "1      FabHomeDecor Fabric Double Sofa Bed (Finish C...  SBEEH3QGU7MFYJFY   \n",
       "2                                            AW Bellies  SHOEH4GRSUBJGZXE   \n",
       "3                                               Shorts   SRTEH2F6HUZMQ6SJ   \n",
       "4                                              Shampoo   PSOEH3ZYDMSYARJ5   \n",
       "...                                                 ...               ...   \n",
       "8922                                            Fabric   FABEGGHHDFMY8BZU   \n",
       "8923                                            Fabric   FABEG8GFDUWRSNU3   \n",
       "8924                                    Lehenga Cholis   LEHEGGEHYN4G2RPW   \n",
       "8925                                            Fabric   FABEGGHHGSVCHGFV   \n",
       "8926                                            Fabric   FABEG8GYDAABECZH   \n",
       "\n",
       "      retail_price  discounted_price  product_rating            Brand  Revenue  \n",
       "0              999               379             2.0           Alisha    56.85  \n",
       "1            32157             22646             2.0     FabHomeDecor  5661.50  \n",
       "2              999               499             1.0               AW    74.85  \n",
       "3              699               267             5.0           Alisha    26.70  \n",
       "4              220               210             5.0           Sicons    21.00  \n",
       "...            ...               ...             ...              ...      ...  \n",
       "8922          2980              1490             3.0           Sinina   372.50  \n",
       "8923          2600              1300             1.0  Aarushi Fashion   325.00  \n",
       "8924         39992             24995             1.0   Ambika Lahenga  6248.75  \n",
       "8925          2000              1000             3.0           Sinina   250.00  \n",
       "8926          2800              1350             4.0  Aarushi Fashion   337.50  \n",
       "\n",
       "[8927 rows x 16 columns]"
      ]
     },
     "execution_count": 35,
     "metadata": {},
     "output_type": "execute_result"
    }
   ],
   "source": [
    "ECom_Data[\"Order_Date\"] = pd.to_datetime(ECom_Data[\"Order_Date\"], dayfirst= True)\n",
    "ECom_Data[\"Expected_Delivery_Date\"] = pd.to_datetime(ECom_Data[\"Expected_Delivery_Date\"], dayfirst= True)\n",
    "ECom_Data[\"Delivered_Date\"] = pd.to_datetime(ECom_Data[\"Delivered_Date\"], dayfirst= True)\n",
    "\n",
    "ECom_Data"
   ]
  },
  {
   "cell_type": "markdown",
   "metadata": {},
   "source": [
    "#### Now let us seperate the revenue data from each region into seperate dataframes and calculate the monthwise revenue, this will make furure operations simple  "
   ]
  },
  {
   "cell_type": "code",
   "execution_count": 36,
   "metadata": {},
   "outputs": [],
   "source": [
    "#intialise another dataframe to store revenue data regionwise\n",
    "North_data = pd.DataFrame(data= ECom_Data[ECom_Data[\"Region\"]==\"North\"],columns=[\"Order_Date\",\"Revenue\"])\n",
    "South_data = pd.DataFrame(data= ECom_Data[ECom_Data[\"Region\"]==\"South\"],columns=[\"Order_Date\",\"Revenue\"])\n",
    "West_data = pd.DataFrame(data= ECom_Data[ECom_Data[\"Region\"]==\"West\"],columns=[\"Order_Date\",\"Revenue\"])\n",
    "\n",
    "#The formatting for 'East' is not what it seems, in the data set it is 'East 'with a space\n",
    "East_data = pd.DataFrame(data= ECom_Data[ECom_Data[\"Region\"]==\"East \"],columns=[\"Order_Date\",\"Revenue\"])\n",
    "\n",
    "\n",
    "# Add another coloumn for a  monthwise tag\n",
    "North_data[\"Month_wise\"] = North_data[\"Order_Date\"].sort_values(ascending=True).dt.strftime(\"%Y - %m\")\n",
    "South_data[\"Month_wise\"] = South_data[\"Order_Date\"].sort_values(ascending=True).dt.strftime(\"%Y - %m\")\n",
    "East_data[\"Month_wise\"] = East_data[\"Order_Date\"].sort_values(ascending=True).dt.strftime(\"%Y - %m\")\n",
    "West_data[\"Month_wise\"] = West_data[\"Order_Date\"].sort_values(ascending=True).dt.strftime(\"%Y - %m\")\n",
    "\n",
    "#Sum the reveune monthwise utilising groupby() method\n",
    "North_data_revenue_monthwise = North_data.groupby(\"Month_wise\").sum().sort_values(\"Month_wise\",ascending=True)\n",
    "South_data_revenue_monthwise = South_data.groupby(\"Month_wise\").sum().sort_values(\"Month_wise\",ascending=True)\n",
    "East_data_revenue_monthwise = East_data.groupby(\"Month_wise\").sum().sort_values(\"Month_wise\",ascending=True)\n",
    "West_data_revenue_monthwise = West_data.groupby(\"Month_wise\").sum().sort_values(\"Month_wise\",ascending=True)\n",
    "\n"
   ]
  },
  {
   "cell_type": "markdown",
   "metadata": {},
   "source": [
    "#### Plotting for monthwise revenue of NORTH Region"
   ]
  },
  {
   "cell_type": "code",
   "execution_count": 37,
   "metadata": {},
   "outputs": [
    {
     "data": {
      "image/png": "[encoded data removed]",
      "text/plain": [
       "<Figure size 1080x504 with 1 Axes>"
      ]
     },
     "metadata": {},
     "output_type": "display_data"
    }
   ],
   "source": [
    "#Declare Figure and specify an appropriate size and title\n",
    "plt.figure(figsize=(15,7))\n",
    "plt.title(\"Monthly Revenue of NORTH Region\",fontsize=20, weight=\"bold\")\n",
    "\n",
    "#Remove outer border and set grid style \n",
    "sns.despine()\n",
    "sns.set_style(\"whitegrid\")\n",
    "\n",
    "#Plot  both the graphs \n",
    "ax = sns.lineplot(data= North_data_revenue_monthwise, x=North_data_revenue_monthwise.index, y= \"Revenue\",marker=\"o\",palette= \"r\")\n",
    "\n",
    "#Label the axes \n",
    "plt.xlabel(\"Date (Monthwise)\",fontsize=15, weight=\"bold\");\n",
    "plt.ylabel(\"Revenue\",fontsize=15, weight=\"bold\");\n",
    "ax.tick_params(labelsize = 13)\n",
    "plt.xticks(rotation = 90);\n"
   ]
  },
  {
   "cell_type": "markdown",
   "metadata": {},
   "source": [
    "#### Plotting for monthwise revenue of SOUTH Region"
   ]
  },
  {
   "cell_type": "code",
   "execution_count": 38,
   "metadata": {},
   "outputs": [
    {
     "data": {
      "image/png": "[encoded data removed]",
      "text/plain": [
       "<Figure size 1080x504 with 1 Axes>"
      ]
     },
     "metadata": {},
     "output_type": "display_data"
    }
   ],
   "source": [
    "#Declare Figure and specify an appropriate size and title\n",
    "plt.figure(figsize=(15,7))\n",
    "plt.title(\"Monthly Revenue of SOUTH Region\",fontsize=20, weight=\"bold\")\n",
    "\n",
    "#Remove outer border and set grid style \n",
    "sns.despine()\n",
    "sns.set_style(\"whitegrid\")\n",
    "\n",
    "#Plot  both the graphs \n",
    "ax = sns.lineplot(data= South_data_revenue_monthwise, x=South_data_revenue_monthwise.index, y= \"Revenue\",marker=\"o\")\n",
    "\n",
    "#Label the axes \n",
    "plt.xlabel(\"Date (Monthwise)\",fontsize=15, weight=\"bold\");\n",
    "plt.ylabel(\"Revenue\",fontsize=15, weight=\"bold\");\n",
    "ax.tick_params(labelsize = 13)\n",
    "plt.xticks(rotation = 90);"
   ]
  },
  {
   "cell_type": "markdown",
   "metadata": {},
   "source": [
    "#### Plotting for monthwise revenue of EAST Region"
   ]
  },
  {
   "cell_type": "code",
   "execution_count": 39,
   "metadata": {},
   "outputs": [
    {
     "data": {
      "image/png": "[encoded data removed]",
      "text/plain": [
       "<Figure size 1080x504 with 1 Axes>"
      ]
     },
     "metadata": {},
     "output_type": "display_data"
    }
   ],
   "source": [
    "#Declare Figure and specify an appropriate size and title\n",
    "plt.figure(figsize=(15,7))\n",
    "plt.title(\"Monthly Revenue of EAST Region\",fontsize=20, weight=\"bold\")\n",
    "\n",
    "#Remove outer border and set grid style \n",
    "sns.despine()\n",
    "sns.set_style(\"whitegrid\")\n",
    "\n",
    "#Plot  both the graphs \n",
    "ax = sns.lineplot(data= East_data_revenue_monthwise, x=East_data_revenue_monthwise.index, y= \"Revenue\",marker=\"o\")\n",
    "\n",
    "#Label the axes \n",
    "plt.xlabel(\"Date (Monthwise)\",fontsize=15, weight=\"bold\");\n",
    "plt.ylabel(\"Revenue\",fontsize=15, weight=\"bold\");\n",
    "ax.tick_params(labelsize = 13)\n",
    "plt.xticks(rotation = 90);"
   ]
  },
  {
   "cell_type": "markdown",
   "metadata": {},
   "source": [
    "#### Plotting for monthwise revenue of WEST Region"
   ]
  },
  {
   "cell_type": "code",
   "execution_count": 40,
   "metadata": {},
   "outputs": [
    {
     "data": {
      "image/png": "[encoded data removed]",
      "text/plain": [
       "<Figure size 1080x504 with 1 Axes>"
      ]
     },
     "metadata": {},
     "output_type": "display_data"
    }
   ],
   "source": [
    "#Declare Figure and specify an appropriate size and title\n",
    "plt.figure(figsize=(15,7))\n",
    "plt.title(\"Monthly Revenue of WEST Region\",fontsize=20, weight=\"bold\")\n",
    "\n",
    "#Remove outer border and set grid style \n",
    "sns.despine()\n",
    "sns.set_style(\"whitegrid\")\n",
    "\n",
    "#Plot  both the graphs \n",
    "ax = sns.lineplot(data= West_data_revenue_monthwise, x=West_data_revenue_monthwise.index, y= \"Revenue\",marker=\"o\",palette= \"r\")\n",
    "\n",
    "#Label the axes \n",
    "plt.xlabel(\"Date (Monthwise)\",fontsize=15, weight=\"bold\");\n",
    "plt.ylabel(\"Revenue\",fontsize=15, weight=\"bold\");\n",
    "ax.tick_params(labelsize = 13)\n",
    "plt.xticks(rotation = 90);"
   ]
  },
  {
   "cell_type": "markdown",
   "metadata": {},
   "source": [
    "<span style='color:green'> **Ans 9. b)** </span>"
   ]
  },
  {
   "cell_type": "markdown",
   "metadata": {},
   "source": [
    "#### The best and worst(ignoring the months that got 0 revenue) performing month for each region is given as:"
   ]
  },
  {
   "cell_type": "code",
   "execution_count": 41,
   "metadata": {},
   "outputs": [
    {
     "name": "stdout",
     "output_type": "stream",
     "text": [
      "The North Region performed BEST in '2020 - 12' bringing in a revenue of '195149.95' INR\n",
      "The North Region performed WORST in  '2021 - 07' bringing in a revenue of '306.0' INR\n",
      "\n",
      "The South Region performed BEST in  '2020 - 12' bringing in a revenue of '95088.25' INR\n",
      "The South Region performed WORST in  '2021 - 05' bringing in a revenue of '3708.75' INR\n",
      "\n",
      "The East Region performed BEST in  '2020 - 12' bringing in a revenue of '363413.85' INR\n",
      "The East Region performed WORST in  '2021 - 10' bringing in a revenue of '202.25' INR\n",
      "\n",
      "The West Region performed BEST in  '2020 - 12' bringing in a revenue of '302971.95' INR\n",
      "The West Region performed WORST in  '2021 - 10' bringing in a revenue of '236.75' INR\n",
      "\n"
     ]
    }
   ],
   "source": [
    "print(f\"The North Region performed BEST in '{North_data_revenue_monthwise.idxmax().Revenue}' bringing in a revenue of '{North_data_revenue_monthwise.max().Revenue}' INR\");\n",
    "print(f\"The North Region performed WORST in  '{North_data_revenue_monthwise.idxmin().Revenue}' bringing in a revenue of '{North_data_revenue_monthwise.min().Revenue}' INR\\n\");\n",
    "\n",
    "print(f\"The South Region performed BEST in  '{South_data_revenue_monthwise.idxmax().Revenue}' bringing in a revenue of '{South_data_revenue_monthwise.max().Revenue}' INR\");\n",
    "print(f\"The South Region performed WORST in  '{South_data_revenue_monthwise.idxmin().Revenue}' bringing in a revenue of '{South_data_revenue_monthwise.min().Revenue}' INR\\n\");\n",
    "\n",
    "print(f\"The East Region performed BEST in  '{East_data_revenue_monthwise.idxmax().Revenue}' bringing in a revenue of '{East_data_revenue_monthwise.max().Revenue}' INR\");\n",
    "print(f\"The East Region performed WORST in  '{East_data_revenue_monthwise.idxmin().Revenue}' bringing in a revenue of '{East_data_revenue_monthwise.min().Revenue}' INR\\n\");\n",
    "\n",
    "print(f\"The West Region performed BEST in  '{West_data_revenue_monthwise.idxmax().Revenue}' bringing in a revenue of '{West_data_revenue_monthwise.max().Revenue}' INR\");\n",
    "print(f\"The West Region performed WORST in  '{West_data_revenue_monthwise.idxmin().Revenue}' bringing in a revenue of '{West_data_revenue_monthwise.min().Revenue}' INR\\n\");\n",
    "\n"
   ]
  }
 ],
 "metadata": {
  "kernelspec": {
   "display_name": "Python 3.9.12 ('base')",
   "language": "python",
   "name": "python3"
  },
  "language_info": {
   "codemirror_mode": {
    "name": "ipython",
    "version": 3
   },
   "file_extension": ".py",
   "mimetype": "text/x-python",
   "name": "python",
   "nbconvert_exporter": "python",
   "pygments_lexer": "ipython3",
   "version": "3.9.12"
  },
  "orig_nbformat": 4,
  "vscode": {
   "interpreter": {
    "hash": "ad2bdc8ecc057115af97d19610ffacc2b4e99fae6737bb82f5d7fb13d2f2c186"
   }
  }
 },
 "nbformat": 4,
 "nbformat_minor": 2
}
